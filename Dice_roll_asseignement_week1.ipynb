import random 
def roll_dice():
    result = random.randint(1, 6)
    return result
while roll_dice():
    player = input("Do you want to play? Yes/No \n")
    if player == "No" or player == "no":
     print("You should have said Yes, it's a fun game! ")
    elif player == "Yes" or player == "yes":
     result = roll_dice()
     print("You rolled a:", result)

    if player == "No" or player == "no":
       print("See you next time!")
       break
else:
  print("Game is over")
  