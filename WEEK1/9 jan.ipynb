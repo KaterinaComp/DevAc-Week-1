{
 "cells": [
  {
   "cell_type": "code",
   "execution_count": 99,
   "metadata": {},
   "outputs": [
    {
     "name": "stdout",
     "output_type": "stream",
     "text": [
      "46\n"
     ]
    }
   ],
   "source": [
    "## string\n",
    "\"Hello\"\n",
    "\n",
    "number1 = 22\n",
    "number2 = 24\n",
    "total = number1 + number2\n",
    "print(total)\n",
    "\n",
    "\n"
   ]
  },
  {
   "cell_type": "code",
   "execution_count": 100,
   "metadata": {},
   "outputs": [],
   "source": [
    "number1 = input(\"Please enter first number?\")\n",
    "number2 = input(\"Please enter second number?\")\n",
    "\n",
    "new_total = number1 + number2\n",
    "print(new_total)\n"
   ]
  },
  {
   "cell_type": "code",
   "execution_count": null,
   "metadata": {},
   "outputs": [],
   "source": [
    "## convert input into integer\n",
    "\n",
    "number1 = int(input(\"Please enter first number?\"))\n",
    "number2 = int(input(\"Please enter second number?\"))\n",
    "\n",
    "new_total1 = number1 + number2\n",
    "print(new_total1)\n"
   ]
  },
  {
   "cell_type": "code",
   "execution_count": null,
   "metadata": {},
   "outputs": [
    {
     "name": "stdout",
     "output_type": "stream",
     "text": [
      "8\n"
     ]
    }
   ],
   "source": [
    "## math operator\n",
    "\n",
    "calc = 17//2\n",
    "print(calc)\n"
   ]
  },
  {
   "cell_type": "code",
   "execution_count": null,
   "metadata": {},
   "outputs": [
    {
     "name": "stdout",
     "output_type": "stream",
     "text": [
      "6\n",
      "2.0\n"
     ]
    }
   ],
   "source": [
    "num1 = int(input(\"Whats the first number?\"))\n",
    "num2 = int(input(\"Whats the second number?>\"))\n",
    "num3 = int(input(\"Whats the third number?\"))\n",
    "\n",
    "total = num1+num2+num3\n",
    "print(total)\n",
    "\n",
    "average = total/3\n",
    "print(average)\n",
    "\n"
   ]
  },
  {
   "cell_type": "code",
   "execution_count": null,
   "metadata": {},
   "outputs": [
    {
     "name": "stdout",
     "output_type": "stream",
     "text": [
      "1\n",
      "4\n",
      "7\n",
      "10\n",
      "13\n",
      "16\n",
      "19\n"
     ]
    }
   ],
   "source": [
    "for i in range(1,21,3):\n",
    "    print(i)"
   ]
  },
  {
   "cell_type": "code",
   "execution_count": null,
   "metadata": {},
   "outputs": [
    {
     "name": "stdout",
     "output_type": "stream",
     "text": [
      "5\n",
      "10\n",
      "15\n",
      "20\n",
      "25\n",
      "30\n",
      "35\n",
      "40\n",
      "45\n",
      "50\n",
      "55\n",
      "60\n"
     ]
    }
   ],
   "source": [
    "table1 = int(input(\"What times table ?\"))\n",
    "for i in range (1,13):\n",
    " print(i*table1)\n"
   ]
  },
  {
   "cell_type": "code",
   "execution_count": null,
   "metadata": {},
   "outputs": [
    {
     "name": "stdout",
     "output_type": "stream",
     "text": [
      "1 X 3 = 3\n",
      "2 X 3 = 6\n",
      "3 X 3 = 9\n",
      "4 X 3 = 12\n",
      "5 X 3 = 15\n",
      "6 X 3 = 18\n",
      "7 X 3 = 21\n",
      "8 X 3 = 24\n",
      "9 X 3 = 27\n",
      "10 X 3 = 30\n",
      "11 X 3 = 33\n",
      "12 X 3 = 36\n"
     ]
    }
   ],
   "source": [
    "##use a loop for to display the times table\n",
    "\n",
    "times_table = int(input(\"Enter a number to display its time table\"))\n",
    "for x in range (1,13):\n",
    "    print(x,\"X\", times_table, \"=\", times_table * x)\n",
    "    "
   ]
  },
  {
   "cell_type": "code",
   "execution_count": 32,
   "metadata": {},
   "outputs": [],
   "source": [
    "## i created a list\n",
    "my_list = ['i','d','l','e']\n"
   ]
  },
  {
   "cell_type": "code",
   "execution_count": 33,
   "metadata": {},
   "outputs": [
    {
     "name": "stdout",
     "output_type": "stream",
     "text": [
      "['i', 'd', 'l', 'e']\n"
     ]
    }
   ],
   "source": [
    "##print list\n",
    "\n",
    "print(my_list)"
   ]
  },
  {
   "cell_type": "code",
   "execution_count": 18,
   "metadata": {},
   "outputs": [],
   "source": [
    "## delete an item\n",
    "\n",
    "del my_list[1:3]\n",
    "\n"
   ]
  },
  {
   "cell_type": "code",
   "execution_count": 20,
   "metadata": {},
   "outputs": [
    {
     "name": "stdout",
     "output_type": "stream",
     "text": [
      "['i', 'e']\n"
     ]
    }
   ],
   "source": [
    "print(my_list)\n"
   ]
  },
  {
   "cell_type": "code",
   "execution_count": 34,
   "metadata": {},
   "outputs": [],
   "source": [
    "my_list[1]=\"n\""
   ]
  },
  {
   "cell_type": "code",
   "execution_count": 35,
   "metadata": {},
   "outputs": [
    {
     "name": "stdout",
     "output_type": "stream",
     "text": [
      "['i', 'n', 'l', 'e']\n"
     ]
    }
   ],
   "source": [
    "print(my_list)\n"
   ]
  },
  {
   "cell_type": "code",
   "execution_count": 36,
   "metadata": {},
   "outputs": [],
   "source": [
    "new_list=['s']+ my_list"
   ]
  },
  {
   "cell_type": "code",
   "execution_count": 37,
   "metadata": {},
   "outputs": [
    {
     "name": "stdout",
     "output_type": "stream",
     "text": [
      "['s', 'i', 'n', 'l', 'e']\n"
     ]
    }
   ],
   "source": [
    "print(new_list)\n"
   ]
  },
  {
   "cell_type": "code",
   "execution_count": 38,
   "metadata": {},
   "outputs": [],
   "source": [
    "new_list.append('g')\n"
   ]
  },
  {
   "cell_type": "code",
   "execution_count": 39,
   "metadata": {},
   "outputs": [
    {
     "name": "stdout",
     "output_type": "stream",
     "text": [
      "['s', 'i', 'n', 'l', 'e', 'g']\n"
     ]
    }
   ],
   "source": [
    "print(new_list)\n"
   ]
  },
  {
   "cell_type": "code",
   "execution_count": 40,
   "metadata": {},
   "outputs": [
    {
     "name": "stdout",
     "output_type": "stream",
     "text": [
      "s\n"
     ]
    }
   ],
   "source": [
    "import random\n",
    "letter = random.choice(new_list)\n",
    "print(letter)\n"
   ]
  },
  {
   "cell_type": "code",
   "execution_count": 41,
   "metadata": {},
   "outputs": [],
   "source": [
    "final_list=[]\n",
    "for i in new_list:\n",
    "    final_list.append(new_list.index(i))\n",
    "    "
   ]
  },
  {
   "cell_type": "code",
   "execution_count": 42,
   "metadata": {},
   "outputs": [
    {
     "name": "stdout",
     "output_type": "stream",
     "text": [
      "[0, 1, 2, 3, 4, 5]\n"
     ]
    }
   ],
   "source": [
    "print(final_list)"
   ]
  },
  {
   "cell_type": "code",
   "execution_count": 43,
   "metadata": {},
   "outputs": [
    {
     "data": {
      "text/plain": [
       "15"
      ]
     },
     "execution_count": 43,
     "metadata": {},
     "output_type": "execute_result"
    }
   ],
   "source": [
    "sum(final_list)\n"
   ]
  },
  {
   "cell_type": "code",
   "execution_count": 44,
   "metadata": {},
   "outputs": [
    {
     "data": {
      "text/plain": [
       "6"
      ]
     },
     "execution_count": 44,
     "metadata": {},
     "output_type": "execute_result"
    }
   ],
   "source": [
    "len(final_list)"
   ]
  },
  {
   "cell_type": "code",
   "execution_count": 48,
   "metadata": {},
   "outputs": [],
   "source": [
    "my_new_list = ['one','two','three']"
   ]
  },
  {
   "cell_type": "code",
   "execution_count": 51,
   "metadata": {},
   "outputs": [
    {
     "name": "stdout",
     "output_type": "stream",
     "text": [
      "three\n"
     ]
    }
   ],
   "source": [
    "print(my_new_list[-1])\n"
   ]
  },
  {
   "cell_type": "code",
   "execution_count": 69,
   "metadata": {},
   "outputs": [],
   "source": [
    "my_task1_list = [1,2,3,4,5,6,7,8,9,10]\n"
   ]
  },
  {
   "cell_type": "code",
   "execution_count": 70,
   "metadata": {},
   "outputs": [
    {
     "name": "stdout",
     "output_type": "stream",
     "text": [
      "[1, 2, 3, 4, 5, 6, 7, 8, 9, 10]\n"
     ]
    }
   ],
   "source": [
    "print(my_task1_list)"
   ]
  },
  {
   "cell_type": "code",
   "execution_count": 75,
   "metadata": {},
   "outputs": [
    {
     "name": "stdout",
     "output_type": "stream",
     "text": [
      "55\n"
     ]
    }
   ],
   "source": [
    "total = sum(my_task1_list)\n",
    "print(total)\n"
   ]
  },
  {
   "cell_type": "code",
   "execution_count": 76,
   "metadata": {},
   "outputs": [
    {
     "name": "stdout",
     "output_type": "stream",
     "text": [
      "10\n"
     ]
    }
   ],
   "source": [
    "length=len(my_task1_list)\n",
    "print(length)"
   ]
  },
  {
   "cell_type": "code",
   "execution_count": 78,
   "metadata": {},
   "outputs": [
    {
     "name": "stdout",
     "output_type": "stream",
     "text": [
      "5.5\n"
     ]
    }
   ],
   "source": [
    "average = total/length\n",
    "print(average)"
   ]
  },
  {
   "cell_type": "code",
   "execution_count": 85,
   "metadata": {},
   "outputs": [
    {
     "name": "stdout",
     "output_type": "stream",
     "text": [
      "The sum of the numbers is: 168\n",
      "The Average of the numbers is: 16.8\n",
      "3 is below average.\n",
      "4 is below average.\n",
      "6 is below average.\n",
      "3 is below average.\n",
      "9 is below average.\n",
      "4 is below average.\n",
      "7 is below average.\n",
      "43 is above average.\n",
      "76 is above average.\n",
      "13 is below average.\n"
     ]
    }
   ],
   "source": [
    "##Task 1\n",
    "##create an empty list\n",
    "my_task1_list = []\n",
    "\n",
    "##get our user to put number\n",
    "\n",
    "for i in range(1,11):\n",
    "    while True:\n",
    "        user_input = input(\"Please enter an integer number:\")\n",
    "        try:\n",
    "            num = int(user_input)\n",
    "            my_task1_list.append(num)\n",
    "            break\n",
    "        except ValueError:\n",
    "            print(\"That's not a valid integer.Please enter integer\")\n",
    "\n",
    "## Calculate the sum and average of the numbers\n",
    "total_sum = sum(my_task1_list)     \n",
    "average = total_sum/len(my_task1_list)     \n",
    "\n",
    "print(f\"The sum of the numbers is: {total_sum}\")\n",
    "print(f\"The Average of the numbers is: {average}\")\n",
    "\n",
    "##display each of the number according to the proportion\n",
    "\n",
    "for num in my_task1_list:\n",
    "    if num < average:\n",
    "        proportion = \"below\"\n",
    "    elif num > average:\n",
    "        proportion = \"above\"\n",
    "    else: \n",
    "        proportion = \"equal to\"    \n",
    "\n",
    "    print(f\"{num} is {proportion} average.\")\n",
    "    \n",
    "\n"
   ]
  },
  {
   "cell_type": "code",
   "execution_count": 104,
   "metadata": {},
   "outputs": [
    {
     "name": "stdout",
     "output_type": "stream",
     "text": [
      "Hello World\n"
     ]
    }
   ],
   "source": [
    "my_string = \"Hello World\"\n",
    "print(my_string)\n"
   ]
  },
  {
   "cell_type": "code",
   "execution_count": 105,
   "metadata": {},
   "outputs": [
    {
     "name": "stdout",
     "output_type": "stream",
     "text": [
      "W\n"
     ]
    }
   ],
   "source": [
    "print(my_string[6])\n"
   ]
  },
  {
   "cell_type": "code",
   "execution_count": 107,
   "metadata": {},
   "outputs": [
    {
     "name": "stdout",
     "output_type": "stream",
     "text": [
      "Hello\n"
     ]
    }
   ],
   "source": [
    "print(my_string[:5])"
   ]
  },
  {
   "cell_type": "code",
   "execution_count": 108,
   "metadata": {},
   "outputs": [
    {
     "data": {
      "text/plain": [
       "'Cello'"
      ]
     },
     "execution_count": 108,
     "metadata": {},
     "output_type": "execute_result"
    }
   ],
   "source": [
    "\"C\" +my_string[1:5]"
   ]
  },
  {
   "cell_type": "code",
   "execution_count": 110,
   "metadata": {},
   "outputs": [
    {
     "data": {
      "text/plain": [
       "3.147"
      ]
     },
     "execution_count": 110,
     "metadata": {},
     "output_type": "execute_result"
    }
   ],
   "source": [
    "number = 3.1472\n",
    "round(number, 3)\n",
    "\n"
   ]
  },
  {
   "cell_type": "code",
   "execution_count": 111,
   "metadata": {},
   "outputs": [
    {
     "data": {
      "text/plain": [
       "4.1472"
      ]
     },
     "execution_count": 111,
     "metadata": {},
     "output_type": "execute_result"
    }
   ],
   "source": [
    "eval('number+1')"
   ]
  },
  {
   "cell_type": "code",
   "execution_count": 114,
   "metadata": {},
   "outputs": [
    {
     "data": {
      "text/plain": [
       "5"
      ]
     },
     "execution_count": 114,
     "metadata": {},
     "output_type": "execute_result"
    }
   ],
   "source": [
    "import random\n",
    "random.randint(1,5)"
   ]
  },
  {
   "cell_type": "code",
   "execution_count": 116,
   "metadata": {},
   "outputs": [
    {
     "data": {
      "text/plain": [
       "16"
      ]
     },
     "execution_count": 116,
     "metadata": {},
     "output_type": "execute_result"
    }
   ],
   "source": [
    "def square(number):\n",
    "    squareNumber = number ** 2\n",
    "    return squareNumber\n",
    "square (4)"
   ]
  },
  {
   "cell_type": "code",
   "execution_count": 133,
   "metadata": {},
   "outputs": [],
   "source": [
    "### creating a function of factorial\n",
    "\n",
    "\n",
    "def factorial(number):\n",
    "    if number == 0 or number == 1:\n",
    "        return 1\n",
    "    else:\n",
    "        result = 1\n",
    "        for i in range (1, number+1):\n",
    "            result *= i\n",
    "        return result    "
   ]
  },
  {
   "cell_type": "code",
   "execution_count": 138,
   "metadata": {},
   "outputs": [
    {
     "data": {
      "text/plain": [
       "34.493241536530384"
      ]
     },
     "execution_count": 138,
     "metadata": {},
     "output_type": "execute_result"
    }
   ],
   "source": [
    "## convert to kg\n",
    "\n",
    "def convert_kg(number):\n",
    "    kg = number**2.2\n",
    "    return kg\n",
    "convert_kg(5)\n"
   ]
  },
  {
   "cell_type": "code",
   "execution_count": 143,
   "metadata": {},
   "outputs": [],
   "source": [
    "## with teacher -convert to kg\n",
    "\n",
    "def convert_kg(pounds):\n",
    "    kg = pounds/2.2\n",
    "    return kg"
   ]
  },
  {
   "cell_type": "code",
   "execution_count": 144,
   "metadata": {},
   "outputs": [
    {
     "data": {
      "text/plain": [
       "25.454545454545453"
      ]
     },
     "execution_count": 144,
     "metadata": {},
     "output_type": "execute_result"
    }
   ],
   "source": [
    "convert_kg(56)"
   ]
  },
  {
   "cell_type": "code",
   "execution_count": 141,
   "metadata": {},
   "outputs": [],
   "source": [
    "## with teacher to convert to celsius\n",
    "\n",
    "def convert_to_celsius(degrees_fahrenheit):\n",
    "    degrees_celsius = (degrees_fahrenheit - 32)*(5/9)\n",
    "    return degrees_celsius"
   ]
  },
  {
   "cell_type": "code",
   "execution_count": 142,
   "metadata": {},
   "outputs": [
    {
     "data": {
      "text/plain": [
       "37.0"
      ]
     },
     "execution_count": 142,
     "metadata": {},
     "output_type": "execute_result"
    }
   ],
   "source": [
    "convert_to_celsius(98.6)"
   ]
  },
  {
   "cell_type": "code",
   "execution_count": 174,
   "metadata": {},
   "outputs": [],
   "source": [
    "## converting to celsius\n",
    "\n",
    "def convert_to_celsius(degrees_fahrenheit):\n",
    "    degrees_celsius = (degrees_fahrenheit - 32)*(5/9)\n",
    "    return degrees_celsius\n",
    "\n"
   ]
  },
  {
   "cell_type": "code",
   "execution_count": 175,
   "metadata": {},
   "outputs": [
    {
     "data": {
      "text/plain": [
       "51.66666666666667"
      ]
     },
     "execution_count": 175,
     "metadata": {},
     "output_type": "execute_result"
    }
   ],
   "source": [
    "convert_to_celsius(125)"
   ]
  },
  {
   "cell_type": "code",
   "execution_count": 171,
   "metadata": {},
   "outputs": [],
   "source": [
    "##global variable\n",
    "var = 'I am great'\n",
    "\n",
    "##define a function to access the global variable\n",
    "\n",
    "def global_var():\n",
    "    accessed_variable = global_var\n",
    "    return accessed_variable\n"
   ]
  },
  {
   "cell_type": "code",
   "execution_count": 172,
   "metadata": {},
   "outputs": [
    {
     "data": {
      "text/plain": [
       "<function __main__.global_var()>"
      ]
     },
     "execution_count": 172,
     "metadata": {},
     "output_type": "execute_result"
    }
   ],
   "source": [
    "global_var"
   ]
  },
  {
   "cell_type": "code",
   "execution_count": null,
   "metadata": {},
   "outputs": [],
   "source": []
  },
  {
   "cell_type": "code",
   "execution_count": 150,
   "metadata": {},
   "outputs": [],
   "source": [
    "## define a function\n",
    "\n",
    "def my_func():\n",
    "    local_var = \"I am happy\"\n",
    "    print(local_var)\n",
    "\n",
    "    "
   ]
  },
  {
   "cell_type": "code",
   "execution_count": 152,
   "metadata": {},
   "outputs": [
    {
     "name": "stdout",
     "output_type": "stream",
     "text": [
      "I am happy\n"
     ]
    }
   ],
   "source": [
    "my_func()"
   ]
  },
  {
   "cell_type": "code",
   "execution_count": 164,
   "metadata": {},
   "outputs": [
    {
     "name": "stdout",
     "output_type": "stream",
     "text": [
      "red  tomatoes\n",
      "\n",
      "grape  watermelon\n",
      "\n",
      "purple  green\n"
     ]
    }
   ],
   "source": [
    "##read a test from a file\n",
    "\n",
    "with open('test.txt','r') as file:\n",
    "    for line in file:\n",
    "        line = line.split(',')\n",
    "        print(line[0]. rstrip(),line[1])\n"
   ]
  },
  {
   "cell_type": "code",
   "execution_count": null,
   "metadata": {},
   "outputs": [],
   "source": [
    "goat, chicken, cow\n",
    "['goat','chicken', 'cow']\n",
    "\n"
   ]
  },
  {
   "cell_type": "code",
   "execution_count": 179,
   "metadata": {},
   "outputs": [],
   "source": [
    "def save_to_file(first_name,surname,age):\n",
    "    with open('new_data.txt','w') as f:\n",
    "        line = ','.join([first_name,surname,age])\n",
    "        f.write(line + '\\n')\n",
    "        f.close()\n",
    "first_name = input(\"What is your name?: \")      \n",
    "surname = input(\"What is your surname?: \")\n",
    "age = input(\"How old are you?: \")\n",
    "\n",
    "save_to_file(first_name, surname, age)\n"
   ]
  },
  {
   "cell_type": "code",
   "execution_count": null,
   "metadata": {},
   "outputs": [],
   "source": [
    "#csv\n",
    "\n",
    "import csv\n",
    "with open ('csvdata.csv', )"
   ]
  },
  {
   "cell_type": "code",
   "execution_count": null,
   "metadata": {},
   "outputs": [],
   "source": [
    "##write in csv file\n",
    "import csv\n",
    "with open('name.csv', mode='a') as csv_file:\n",
    "    character_writer = csv.writer(csv_file, delimiter=',', quatechar= '\"', quoting= csv.QUOTE_MINIMAL)\n",
    "    character_writer.writer\n"
   ]
  },
  {
   "cell_type": "code",
   "execution_count": 197,
   "metadata": {},
   "outputs": [],
   "source": []
  },
  {
   "cell_type": "code",
   "execution_count": 4,
   "metadata": {},
   "outputs": [
    {
     "ename": "AttributeError",
     "evalue": "module 'random' has no attribute 'randit'",
     "output_type": "error",
     "traceback": [
      "\u001b[1;31m---------------------------------------------------------------------------\u001b[0m",
      "\u001b[1;31mAttributeError\u001b[0m                            Traceback (most recent call last)",
      "Cell \u001b[1;32mIn[4], line 6\u001b[0m\n\u001b[0;32m      4\u001b[0m  result \u001b[38;5;241m=\u001b[39m random\u001b[38;5;241m.\u001b[39mrandit(\u001b[38;5;241m1\u001b[39m,\u001b[38;5;241m7\u001b[39m)\n\u001b[0;32m      5\u001b[0m  \u001b[38;5;28;01mreturn\u001b[39;00m result\n\u001b[1;32m----> 6\u001b[0m \u001b[43mroll_dice\u001b[49m\u001b[43m(\u001b[49m\u001b[43m)\u001b[49m\n",
      "Cell \u001b[1;32mIn[4], line 4\u001b[0m, in \u001b[0;36mroll_dice\u001b[1;34m()\u001b[0m\n\u001b[0;32m      3\u001b[0m \u001b[38;5;28;01mdef\u001b[39;00m \u001b[38;5;21mroll_dice\u001b[39m():\n\u001b[1;32m----> 4\u001b[0m  result \u001b[38;5;241m=\u001b[39m \u001b[43mrandom\u001b[49m\u001b[38;5;241;43m.\u001b[39;49m\u001b[43mrandit\u001b[49m(\u001b[38;5;241m1\u001b[39m,\u001b[38;5;241m7\u001b[39m)\n\u001b[0;32m      5\u001b[0m  \u001b[38;5;28;01mreturn\u001b[39;00m result\n",
      "\u001b[1;31mAttributeError\u001b[0m: module 'random' has no attribute 'randit'"
     ]
    }
   ],
   "source": [
    "import random\n",
    "while True:\n",
    " def roll_dice():\n",
    "  result = random.randit(1,7)\n",
    "  return result\n",
    " roll_dice()\n"
   ]
  },
  {
   "cell_type": "code",
   "execution_count": null,
   "metadata": {},
   "outputs": [
    {
     "name": "stdout",
     "output_type": "stream",
     "text": [
      "The price to pay is £5\n"
     ]
    }
   ],
   "source": [
    "##Nested Statements\n",
    "\n",
    "\n",
    "age = int(input(\"What is your age?\"))\n",
    "if age < 20 or age > 65:\n",
    "    print(\"Nothing to pay\")\n",
    "else:\n",
    "    swimcard = input(\"Do you have a swimcard?\")\n",
    "    if swimcard.lower() == \"yes\":\n",
    "        print(\"The price to pay is £2.5\")\n",
    "    else:\n",
    "        print(\"The price to pay is £5\")\n"
   ]
  },
  {
   "cell_type": "code",
   "execution_count": 224,
   "metadata": {},
   "outputs": [
    {
     "name": "stdout",
     "output_type": "stream",
     "text": [
      "Game is over \n"
     ]
    }
   ],
   "source": [
    "##DICE ROLL Assignment\n",
    "\n",
    "import random\n",
    "def roll_dice():\n",
    "    result = random.randint(1, 7)\n",
    "    return result\n",
    "player = input(\"Do you want to play? Yes/No \\n\")\n",
    "if player == \"No\" or player == \"no\":\n",
    "    print(\"You should have said Yes, it's a fun game! \")\n",
    "elif player == \"Yes\" or player == \"yes\":\n",
    "    result = roll_dice()\n",
    "    print(\"You rolled :\", result)\n",
    "\n",
    "if player == \"No\" or player == \"no\":\n",
    "    print(\"See you next time!\")\n",
    "else:\n",
    "    print(\"Game is over \")\n"
   ]
  },
  {
   "cell_type": "code",
   "execution_count": 227,
   "metadata": {},
   "outputs": [
    {
     "name": "stdout",
     "output_type": "stream",
     "text": [
      "You rolled a: 2\n",
      "You rolled a: 2\n",
      "You rolled a: 3\n",
      "You rolled a: 4\n",
      "You should have said Yes, it's a fun game! \n",
      "See you next time!\n"
     ]
    }
   ],
   "source": [
    "## Dice roll with break\n",
    "import random \n",
    "def roll_dice():\n",
    "    result = random.randint(1, 6)\n",
    "    return result\n",
    "while roll_dice():\n",
    "    player = input(\"Do you want to play? Yes/No \\n\")\n",
    "    if player == \"No\" or player == \"no\":\n",
    "     print(\"You should have said Yes, it's a fun game! \")\n",
    "    elif player == \"Yes\" or player == \"yes\":\n",
    "     result = roll_dice()\n",
    "     print(\"You rolled a:\", result)\n",
    "\n",
    "    if player == \"No\" or player == \"no\":\n",
    "       print(\"See you next time!\")\n",
    "       break\n",
    "else:\n",
    "  print(\"Game is over\")\n",
    " "
   ]
  },
  {
   "cell_type": "code",
   "execution_count": 229,
   "metadata": {},
   "outputs": [
    {
     "name": "stdout",
     "output_type": "stream",
     "text": [
      "Total: 6\n"
     ]
    }
   ],
   "source": [
    "total = 0\n",
    "\n",
    "while True:\n",
    "    number = int(input(\"Enter a number?\"))\n",
    "    if number == 0:\n",
    "        break\n",
    "    total+=number\n",
    "print('Total:', total)   "
   ]
  },
  {
   "cell_type": "code",
   "execution_count": 6,
   "metadata": {},
   "outputs": [
    {
     "name": "stdout",
     "output_type": "stream",
     "text": [
      "6\n"
     ]
    },
    {
     "name": "stdout",
     "output_type": "stream",
     "text": [
      "Too low.\n"
     ]
    }
   ],
   "source": [
    "## Guess the number\n",
    "\n",
    "import random\n",
    "\n",
    "number = random.choice(range(1,101))\n",
    "print(number)\n",
    "\n",
    "user_guess=int(input(\"Guess a number from 1 to 100: \"))\n",
    "while user_guess != number:\n",
    "  if user_guess > number:\n",
    "    print(\"Too high.\")\n",
    "    break\n",
    "  elif user_guess < number:\n",
    "    print(\"Too low.\")\n",
    "    break\n",
    "else:\n",
    "  print(\"You're right!\")\n",
    "  "
   ]
  },
  {
   "cell_type": "code",
   "execution_count": 4,
   "metadata": {},
   "outputs": [
    {
     "ename": "FileNotFoundError",
     "evalue": "[Errno 2] No such file or directory: 'student_list.csv'",
     "output_type": "error",
     "traceback": [
      "\u001b[1;31m---------------------------------------------------------------------------\u001b[0m",
      "\u001b[1;31mFileNotFoundError\u001b[0m                         Traceback (most recent call last)",
      "Cell \u001b[1;32mIn[4], line 10\u001b[0m\n\u001b[0;32m      8\u001b[0m     \u001b[38;5;28;01mwith\u001b[39;00m \u001b[38;5;28mopen\u001b[39m(output_file, \u001b[38;5;124m'\u001b[39m\u001b[38;5;124mw\u001b[39m\u001b[38;5;124m'\u001b[39m, newline\u001b[38;5;241m=\u001b[39m\u001b[38;5;124m'\u001b[39m\u001b[38;5;124m'\u001b[39m) \u001b[38;5;28;01mas\u001b[39;00m csv_file:\n\u001b[0;32m      9\u001b[0m         csv\u001b[38;5;241m.\u001b[39mwriter(csv_file)\u001b[38;5;241m.\u001b[39mwriterows(attendance)\n\u001b[1;32m---> 10\u001b[0m students \u001b[38;5;241m=\u001b[39m \u001b[38;5;28mlist\u001b[39m(csv\u001b[38;5;241m.\u001b[39mreader(\u001b[38;5;28;43mopen\u001b[39;49m\u001b[43m(\u001b[49m\u001b[38;5;124;43m'\u001b[39;49m\u001b[38;5;124;43mstudent_list.csv\u001b[39;49m\u001b[38;5;124;43m'\u001b[39;49m\u001b[43m,\u001b[49m\u001b[43m \u001b[49m\u001b[38;5;124;43m'\u001b[39;49m\u001b[38;5;124;43mr\u001b[39;49m\u001b[38;5;124;43m'\u001b[39;49m\u001b[43m)\u001b[49m))\n\u001b[0;32m     11\u001b[0m attendance_mark \u001b[38;5;241m=\u001b[39m take_attendance(students)         \n\u001b[0;32m     12\u001b[0m save_attendance(attendance_mark, output_file)        \n",
      "File \u001b[1;32m~\\AppData\\Roaming\\Python\\Python311\\site-packages\\IPython\\core\\interactiveshell.py:310\u001b[0m, in \u001b[0;36m_modified_open\u001b[1;34m(file, *args, **kwargs)\u001b[0m\n\u001b[0;32m    303\u001b[0m \u001b[38;5;28;01mif\u001b[39;00m file \u001b[38;5;129;01min\u001b[39;00m {\u001b[38;5;241m0\u001b[39m, \u001b[38;5;241m1\u001b[39m, \u001b[38;5;241m2\u001b[39m}:\n\u001b[0;32m    304\u001b[0m     \u001b[38;5;28;01mraise\u001b[39;00m \u001b[38;5;167;01mValueError\u001b[39;00m(\n\u001b[0;32m    305\u001b[0m         \u001b[38;5;124mf\u001b[39m\u001b[38;5;124m\"\u001b[39m\u001b[38;5;124mIPython won\u001b[39m\u001b[38;5;124m'\u001b[39m\u001b[38;5;124mt let you open fd=\u001b[39m\u001b[38;5;132;01m{\u001b[39;00mfile\u001b[38;5;132;01m}\u001b[39;00m\u001b[38;5;124m by default \u001b[39m\u001b[38;5;124m\"\u001b[39m\n\u001b[0;32m    306\u001b[0m         \u001b[38;5;124m\"\u001b[39m\u001b[38;5;124mas it is likely to crash IPython. If you know what you are doing, \u001b[39m\u001b[38;5;124m\"\u001b[39m\n\u001b[0;32m    307\u001b[0m         \u001b[38;5;124m\"\u001b[39m\u001b[38;5;124myou can use builtins\u001b[39m\u001b[38;5;124m'\u001b[39m\u001b[38;5;124m open.\u001b[39m\u001b[38;5;124m\"\u001b[39m\n\u001b[0;32m    308\u001b[0m     )\n\u001b[1;32m--> 310\u001b[0m \u001b[38;5;28;01mreturn\u001b[39;00m \u001b[43mio_open\u001b[49m\u001b[43m(\u001b[49m\u001b[43mfile\u001b[49m\u001b[43m,\u001b[49m\u001b[43m \u001b[49m\u001b[38;5;241;43m*\u001b[39;49m\u001b[43margs\u001b[49m\u001b[43m,\u001b[49m\u001b[43m \u001b[49m\u001b[38;5;241;43m*\u001b[39;49m\u001b[38;5;241;43m*\u001b[39;49m\u001b[43mkwargs\u001b[49m\u001b[43m)\u001b[49m\n",
      "\u001b[1;31mFileNotFoundError\u001b[0m: [Errno 2] No such file or directory: 'student_list.csv'"
     ]
    }
   ],
   "source": [
    "import csv\n",
    "output_file = 'attendance_output.csv'\n",
    "\n",
    "def take_attendance(student_list):\n",
    "    return[[name, input(f'Is {name} present?Y/N').lower()] for name in (student[0] for student in student_list) if name]\n",
    "\n",
    "def save_attendance(attendance, output_file):\n",
    "    with open(output_file, 'w', newline='') as csv_file:\n",
    "        csv.writer(csv_file).writerows(attendance)\n",
    "students = list(csv.reader(open('student_list.csv', 'r')))\n",
    "attendance_mark = take_attendance(students)         \n",
    "save_attendance(attendance_mark, output_file)        \n",
    "print('Attendance has been taken')\n",
    "\n"
   ]
  },
  {
   "cell_type": "code",
   "execution_count": 1,
   "metadata": {},
   "outputs": [
    {
     "name": "stdout",
     "output_type": "stream",
     "text": [
      "hello\n"
     ]
    }
   ],
   "source": [
    "print(\"hello\")\n"
   ]
  }
 ],
 "metadata": {
  "kernelspec": {
   "display_name": "Python 3",
   "language": "python",
   "name": "python3"
  },
  "language_info": {
   "codemirror_mode": {
    "name": "ipython",
    "version": 3
   },
   "file_extension": ".py",
   "mimetype": "text/x-python",
   "name": "python",
   "nbconvert_exporter": "python",
   "pygments_lexer": "ipython3",
   "version": "3.11.5"
  }
 },
 "nbformat": 4,
 "nbformat_minor": 2
}
