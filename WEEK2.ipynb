{
 "cells": [
  {
   "cell_type": "code",
   "execution_count": 6,
   "metadata": {},
   "outputs": [
    {
     "name": "stdout",
     "output_type": "stream",
     "text": [
      " Once upon a time, in a magical kingdom, there lived a beautiful unicorn named devil.\n",
      " devil lived in a peaceful forest. \n",
      " She was well-known in the kingdom for her wild mane, red eyes, and sweet nature.  This devil loved to jump quickly and was determined to run.\n"
     ]
    }
   ],
   "source": [
    "\n",
    "## week two \n",
    "## Mad libs generator\n",
    "adjective = input(\"Enter an adjective: \")\n",
    "adjective_2 = input(\"Enter an adjective: \")\n",
    "noun = input(\"Enter a noun: \")\n",
    "verb =input(\"Enter a verb: \")\n",
    "verb_2 = input(\"Enter a verb: \")\n",
    "adverb = input(\"Enter an adverb: \")\n",
    "\n",
    "#the story\n",
    "\n",
    "story = \" Once upon a time, in a magical kingdom, there lived a beautiful unicorn named \" + noun + \".\\n \" + noun + \" lived in a peaceful forest. \\n She was well-known in the kingdom for her \" + adjective + \" mane, \" + adjective_2 + \" eyes, and sweet nature. \"\n",
    "\n",
    "story += \" This \" + noun + \" loved to \" + verb + \" \" + adverb + \" and was determined to \" + verb_2 + \".\"\n",
    "\n",
    "print(story)"
   ]
  },
  {
   "cell_type": "code",
   "execution_count": 2,
   "metadata": {},
   "outputs": [
    {
     "name": "stdout",
     "output_type": "stream",
     "text": [
      "\n",
      "Once upon a time in a magical land, there was a unicorn named DEVIL.With its AMAZING horn, it had the power to RUN anything it desired.\n",
      "One day, the unicorn discovered a hidden portal that led to TREE.\n",
      "In this GREEN realm, the unicorn encountered a mystical HOUSE.\n",
      "Swiftly and QUICKLY, the unicorn used its powers to COOK the WHITE TREE.\n",
      "News of the unicorn's SLOW deeds spread, and soon it was called to LEARN in the legendary land of HOTEL.\n"
     ]
    }
   ],
   "source": [
    "# Mad Libs Story: Unicorn Saving the World\n",
    "\n",
    "# User inputs\n",
    "unicorn_name = input(\"Enter a name for your unicorn: \")\n",
    "adjective1 = input(\"Enter an adjective: \")\n",
    "verb1 = input(\"Enter a verb: \")\n",
    "place1 = input(\"Enter a place: \")\n",
    "adjective2 = input(\"Enter another adjective: \")\n",
    "noun1 = input(\"Enter a singular noun: \")\n",
    "adverb1 = input(\"Enter an adverb: \")\n",
    "verb2 = input(\"Enter another verb: \")\n",
    "color1 = input(\"Enter a color: \")\n",
    "noun2 = input(\"Enter another singular noun: \")\n",
    "adjective3 = input(\"Enter yet another adjective: \")\n",
    "verb3 = input(\"Enter a third verb: \")\n",
    "place2 = input(\"Enter another place: \")\n",
    "\n",
    "\n",
    "# Story\n",
    "story = \"\\nOnce upon a time in a magical land, there was a unicorn named \" + unicorn_name + \".\"\n",
    "\n",
    "#Creating story using variable and concatenation\n",
    "\n",
    "story += \"With its \" + adjective1 + \" horn, it had the power to \" + verb1 + \" anything it desired.\\n\"  \"One day, the unicorn discovered a hidden portal that led to \" + place1 + \".\\n\" \"In this \" + adjective2 + \" realm, the unicorn encountered a mystical \" + noun1 + \".\\n\"  \"Swiftly and \" + adverb1 + \", the unicorn used its powers to \" + verb2 + \" the \" + color1 + \" \" + noun2 + \".\\n\" \"News of the unicorn's \" + adjective3 + \" deeds spread, and soon it was called to \" + verb3 + \" in the legendary land of \" + place2 + \".\"\n",
    "\n",
    "# Print the Mad Libs story\n",
    "\n",
    "print(story)\n"
   ]
  },
  {
   "cell_type": "code",
   "execution_count": 2,
   "metadata": {},
   "outputs": [
    {
     "name": "stdout",
     "output_type": "stream",
     "text": [
      "You are in a dark hall. There are doors to the north, east, south and west.\n"
     ]
    },
    {
     "name": "stdout",
     "output_type": "stream",
     "text": [
      "You have entered the north room. Welcome to the Enchanted Garden Room.\n",
      "You have entered the east room. You stepped in into the Luminous Crystal Chamber, where the walls are covered with glittering crystals in every colour imaginable.\n",
      "You have entered the south room. Discover the Whimsical Library Nook, a cosy area with shelves filled with books of all shapes and sizes.\n",
      "You have visited all the rooms. The game is over.\n"
     ]
    }
   ],
   "source": [
    "# Adventure Game\n",
    "\n",
    "# Define rooms and their descriptions\n",
    "rooms = {\n",
    "    'start': 'You are in a dark hall. There are doors to the north, east, south and west.',\n",
    "    'north': 'You have entered the north room. Welcome to the Enchanted Garden Room.',\n",
    "    'east': 'You have entered the east room. You stepped in into the Luminous Crystal Chamber, where the walls are covered with glittering crystals in every colour imaginable.',\n",
    "    'south': 'You have entered the south room. Discover the Whimsical Library Nook, a cosy area with shelves filled with books of all shapes and sizes.',\n",
    "    'west': 'You have entered the west room, the  Mystical Observatory Deck.The air is crisp, and a gentle breeze brings cosmic whispers, enticing you to contemplate the universe\\'s wonders.',\n",
    "}\n",
    "\n",
    "# Set initial room and create a list to track the user's movements\n",
    "current_room = 'start'\n",
    "visited_rooms = ['start']\n",
    "\n",
    "# Define game loop\n",
    "while True:\n",
    "    # Print current room description\n",
    "  print(rooms[current_room])\n",
    "  \n",
    "    # Get user input  \n",
    "  direction = input('Which direction do you want to go? (north/east/south/west): ')\n",
    "    # Check if user input is valid\n",
    "  if direction in ['north', 'east', 'south', 'west']:\n",
    "        # Update current room and visited rooms list\n",
    "      current_room = direction\n",
    "      visited_rooms.append(current_room)\n",
    "        # Check if user has reached the end of the game\n",
    "      if current_room == 'end':\n",
    "          print('Congratulations! You have reached the end of the game.')\n",
    "          break\n",
    "        # Check if user has visited all rooms\n",
    "      if len(visited_rooms) == len(rooms):\n",
    "          print('You have visited all the rooms. The game is over.')\n",
    "          break\n",
    "        # Check if user has visited the same room twice\n",
    "      elif current_room in visited_rooms[:-1]:\n",
    "          print('You have already visited this room. Choose another direction.')\n",
    "        # If user has not reached the end of the game or visited all rooms, continue the game\n",
    "      else:\n",
    "          continue  \n",
    "        \n",
    "  "
   ]
  }
 ],
 "metadata": {
  "kernelspec": {
   "display_name": "Python 3",
   "language": "python",
   "name": "python3"
  },
  "language_info": {
   "codemirror_mode": {
    "name": "ipython",
    "version": 3
   },
   "file_extension": ".py",
   "mimetype": "text/x-python",
   "name": "python",
   "nbconvert_exporter": "python",
   "pygments_lexer": "ipython3",
   "version": "3.11.5"
  }
 },
 "nbformat": 4,
 "nbformat_minor": 2
}
