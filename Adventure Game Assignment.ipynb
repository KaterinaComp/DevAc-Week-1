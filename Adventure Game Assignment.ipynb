{
 "cells": [
  {
   "cell_type": "code",
   "execution_count": 4,
   "metadata": {},
   "outputs": [
    {
     "name": "stdout",
     "output_type": "stream",
     "text": [
      "You are in a dark hall. There are doors to the north, east, south and west.\n",
      "You have entered the north room. Welcome to the Enchanted Garden Room.\n",
      "You have entered the south room. Discover the Whimsical Library Nook, a cosy area with shelves filled with books of all shapes and sizes.\n",
      "You have entered the east room. You stepped in into the Luminous Crystal Chamber, where the walls are covered with glittering crystals in every colour imaginable.\n",
      "You have visited all the rooms. The game is over.\n"
     ]
    }
   ],
   "source": [
    "# Adventure Game\n",
    "\n",
    "# Define rooms and their descriptions\n",
    "rooms = {\n",
    "    'start': 'You are in a dark hall. There are doors to the north, east, south and west.',\n",
    "    'north': 'You have entered the north room. Welcome to the Enchanted Garden Room.',\n",
    "    'east': 'You have entered the east room. You stepped in into the Luminous Crystal Chamber, where the walls are covered with glittering crystals in every colour imaginable.',\n",
    "    'south': 'You have entered the south room. Discover the Whimsical Library Nook, a cosy area with shelves filled with books of all shapes and sizes.',\n",
    "    'west': 'You have entered the west room, the  Mystical Observatory Deck.The air is crisp, and a gentle breeze brings cosmic whispers, enticing you to contemplate the universe\\'s wonders.',\n",
    "}\n",
    "\n",
    "# Set initial room and create a list to track the user's movements\n",
    "current_room = 'start'\n",
    "visited_rooms = ['start']\n",
    "\n",
    "# Define game loop\n",
    "while True:\n",
    "    # Print current room description\n",
    "  print(rooms[current_room])\n",
    "  \n",
    "    # Get user input  \n",
    "  direction = input('Which direction do you want to go? (north/east/south/west): ')\n",
    "    # Check if user input is valid\n",
    "  if direction in ['north', 'east', 'south', 'west']:\n",
    "        # Update current room and visited rooms list\n",
    "      current_room = direction\n",
    "      visited_rooms.append(current_room)\n",
    "        # Check if user has reached the end of the game\n",
    "      if current_room == 'end':\n",
    "          print('Congratulations! You have reached the end of the game.')\n",
    "          break\n",
    "        # Check if user has visited all rooms\n",
    "      if len(visited_rooms) == len(rooms):\n",
    "          print('You have visited all the rooms. The game is over.')\n",
    "          break\n",
    "        # Check if user has visited the same room twice\n",
    "      elif current_room in visited_rooms[:-1]:\n",
    "          print('You have already visited this room. Choose another direction.')\n",
    "        # If user has not reached the end of the game or visited all rooms, continue the game\n",
    "      else:\n",
    "          continue  \n",
    "        "
   ]
  }
 ],
 "metadata": {
  "kernelspec": {
   "display_name": "Python 3",
   "language": "python",
   "name": "python3"
  },
  "language_info": {
   "codemirror_mode": {
    "name": "ipython",
    "version": 3
   },
   "file_extension": ".py",
   "mimetype": "text/x-python",
   "name": "python",
   "nbconvert_exporter": "python",
   "pygments_lexer": "ipython3",
   "version": "3.11.5"
  }
 },
 "nbformat": 4,
 "nbformat_minor": 2
}
