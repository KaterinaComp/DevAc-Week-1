{
 "cells": [
  {
   "cell_type": "code",
   "execution_count": 21,
   "metadata": {},
   "outputs": [],
   "source": [
    "## created a list\n",
    "my_list = ['i', 'd', 'l', 'e']"
   ]
  },
  {
   "cell_type": "code",
   "execution_count": 17,
   "metadata": {},
   "outputs": [
    {
     "name": "stdout",
     "output_type": "stream",
     "text": [
      "['i', 'd', 'l', 'e']\n"
     ]
    }
   ],
   "source": [
    "## print the list\n",
    "print(my_list)"
   ]
  },
  {
   "cell_type": "code",
   "execution_count": 18,
   "metadata": {},
   "outputs": [],
   "source": [
    "## delete an item \n",
    "del my_list[1:3]"
   ]
  },
  {
   "cell_type": "code",
   "execution_count": 19,
   "metadata": {},
   "outputs": [
    {
     "name": "stdout",
     "output_type": "stream",
     "text": [
      "['i', 'e']\n"
     ]
    }
   ],
   "source": [
    "print(my_list)"
   ]
  },
  {
   "cell_type": "code",
   "execution_count": 22,
   "metadata": {},
   "outputs": [],
   "source": [
    "my_list[1] = \"n\""
   ]
  },
  {
   "cell_type": "code",
   "execution_count": 23,
   "metadata": {},
   "outputs": [
    {
     "name": "stdout",
     "output_type": "stream",
     "text": [
      "['i', 'n', 'l', 'e']\n"
     ]
    }
   ],
   "source": [
    "print(my_list)"
   ]
  },
  {
   "cell_type": "code",
   "execution_count": 24,
   "metadata": {},
   "outputs": [],
   "source": [
    "new_list = [\"s\"] + my_list"
   ]
  },
  {
   "cell_type": "code",
   "execution_count": 25,
   "metadata": {},
   "outputs": [
    {
     "name": "stdout",
     "output_type": "stream",
     "text": [
      "['s', 'i', 'n', 'l', 'e']\n"
     ]
    }
   ],
   "source": [
    "print(new_list)"
   ]
  },
  {
   "cell_type": "code",
   "execution_count": 26,
   "metadata": {},
   "outputs": [],
   "source": [
    "## append\n",
    "new_list.append(\"g\")\n"
   ]
  },
  {
   "cell_type": "code",
   "execution_count": 27,
   "metadata": {},
   "outputs": [
    {
     "name": "stdout",
     "output_type": "stream",
     "text": [
      "['s', 'i', 'n', 'l', 'e', 'g']\n"
     ]
    }
   ],
   "source": [
    "print(new_list)"
   ]
  },
  {
   "cell_type": "code",
   "execution_count": 28,
   "metadata": {},
   "outputs": [],
   "source": [
    "new_list.insert(1, \"t\")"
   ]
  },
  {
   "cell_type": "code",
   "execution_count": 29,
   "metadata": {},
   "outputs": [
    {
     "name": "stdout",
     "output_type": "stream",
     "text": [
      "['s', 't', 'i', 'n', 'l', 'e', 'g']\n"
     ]
    }
   ],
   "source": [
    "print(new_list)"
   ]
  },
  {
   "cell_type": "code",
   "execution_count": 50,
   "metadata": {},
   "outputs": [
    {
     "name": "stdout",
     "output_type": "stream",
     "text": [
      "s\n"
     ]
    }
   ],
   "source": [
    "import random\n",
    "letter = random.choice(new_list)\n",
    "print(letter)"
   ]
  },
  {
   "cell_type": "code",
   "execution_count": 51,
   "metadata": {},
   "outputs": [],
   "source": [
    "final_list = []\n",
    "for i in new_list:\n",
    "    final_list.append(new_list.index(i))"
   ]
  },
  {
   "cell_type": "code",
   "execution_count": 52,
   "metadata": {},
   "outputs": [
    {
     "name": "stdout",
     "output_type": "stream",
     "text": [
      "[0, 1, 2, 3, 4, 5, 6]\n"
     ]
    }
   ],
   "source": [
    "print(final_list)"
   ]
  },
  {
   "cell_type": "code",
   "execution_count": 53,
   "metadata": {},
   "outputs": [
    {
     "data": {
      "text/plain": [
       "21"
      ]
     },
     "execution_count": 53,
     "metadata": {},
     "output_type": "execute_result"
    }
   ],
   "source": [
    "sum(final_list)"
   ]
  },
  {
   "cell_type": "code",
   "execution_count": 54,
   "metadata": {},
   "outputs": [
    {
     "data": {
      "text/plain": [
       "7"
      ]
     },
     "execution_count": 54,
     "metadata": {},
     "output_type": "execute_result"
    }
   ],
   "source": [
    "len(final_list)"
   ]
  },
  {
   "cell_type": "code",
   "execution_count": 55,
   "metadata": {},
   "outputs": [],
   "source": [
    "my_new_list = ['one', 'two', 'three']\n"
   ]
  },
  {
   "cell_type": "code",
   "execution_count": 62,
   "metadata": {},
   "outputs": [
    {
     "name": "stdout",
     "output_type": "stream",
     "text": [
      "one\n"
     ]
    }
   ],
   "source": [
    "print(my_new_list[-3])"
   ]
  },
  {
   "cell_type": "code",
   "execution_count": 64,
   "metadata": {},
   "outputs": [
    {
     "name": "stdout",
     "output_type": "stream",
     "text": [
      "three\ttwo\tone\t"
     ]
    }
   ],
   "source": [
    "for x in reversed(my_new_list):\n",
    "    print(x, end='\\t')"
   ]
  },
  {
   "cell_type": "code",
   "execution_count": 66,
   "metadata": {},
   "outputs": [
    {
     "name": "stdout",
     "output_type": "stream",
     "text": [
      "That's not a valid integer. Please enter an integer\n",
      "The sum of the numbers is: 315\n",
      "The Average of the numbers is: 31.5\n",
      "10 is below average.\n",
      "20 is below average.\n",
      "20 is below average.\n",
      "40 is above average.\n",
      "35 is above average.\n",
      "23 is below average.\n",
      "21 is below average.\n",
      "23 is below average.\n",
      "23 is below average.\n",
      "100 is above average.\n"
     ]
    }
   ],
   "source": [
    "## initialize an empty list that the user will enter\n",
    "user_numbers = []\n",
    "## get our users to enter ten integers\n",
    "for i in range(1,11):\n",
    "    while True:\n",
    "        user_inputs = input(f'Please enter an integer number #{i}: ')\n",
    "        try:\n",
    "            num = int(user_inputs)\n",
    "            user_numbers.append(num)\n",
    "            break\n",
    "        except ValueError:\n",
    "            print(\"That's not a valid integer. Please enter an integer\")\n",
    "            \n",
    "            \n",
    "## calculate the sum and average of the numbers\n",
    "total_sum = sum(user_numbers)\n",
    "average = total_sum/len(user_numbers)\n",
    "\n",
    "## output the result of the sum and average\n",
    "print(f\"The sum of the numbers is: {total_sum}\")\n",
    "print(f\"The Average of the numbers is: {average}\")\n",
    "\n",
    "\n",
    "\n",
    "## display each of the number according to the proportion\n",
    "\n",
    "for num in user_numbers:\n",
    "    if num < average:\n",
    "        proportion = 'below'\n",
    "    elif num > average:\n",
    "        proportion = 'above'\n",
    "    else:\n",
    "        proportion = 'equal to'\n",
    "    print(f\"{num} is {proportion} average.\")"
   ]
  },
  {
   "cell_type": "code",
   "execution_count": 67,
   "metadata": {},
   "outputs": [],
   "source": [
    "my_string = \"Hello World\"\n"
   ]
  },
  {
   "cell_type": "code",
   "execution_count": 70,
   "metadata": {},
   "outputs": [
    {
     "name": "stdout",
     "output_type": "stream",
     "text": [
      "W\n"
     ]
    }
   ],
   "source": [
    "print(my_string[6])"
   ]
  },
  {
   "cell_type": "code",
   "execution_count": 73,
   "metadata": {},
   "outputs": [
    {
     "name": "stdout",
     "output_type": "stream",
     "text": [
      "Hello\n"
     ]
    }
   ],
   "source": [
    "print(my_string[:5])"
   ]
  },
  {
   "cell_type": "code",
   "execution_count": 74,
   "metadata": {},
   "outputs": [
    {
     "data": {
      "text/plain": [
       "'Cello'"
      ]
     },
     "execution_count": 74,
     "metadata": {},
     "output_type": "execute_result"
    }
   ],
   "source": [
    "\"C\" + my_string[1:5]"
   ]
  },
  {
   "cell_type": "code",
   "execution_count": 76,
   "metadata": {},
   "outputs": [
    {
     "data": {
      "text/plain": [
       "3.147"
      ]
     },
     "execution_count": 76,
     "metadata": {},
     "output_type": "execute_result"
    }
   ],
   "source": [
    "number = 3.1472\n",
    "round(number, 3)"
   ]
  },
  {
   "cell_type": "code",
   "execution_count": 77,
   "metadata": {},
   "outputs": [
    {
     "data": {
      "text/plain": [
       "4.1472"
      ]
     },
     "execution_count": 77,
     "metadata": {},
     "output_type": "execute_result"
    }
   ],
   "source": [
    "eval('number + 1')"
   ]
  },
  {
   "cell_type": "code",
   "execution_count": 83,
   "metadata": {},
   "outputs": [
    {
     "data": {
      "text/plain": [
       "5"
      ]
     },
     "execution_count": 83,
     "metadata": {},
     "output_type": "execute_result"
    }
   ],
   "source": [
    "import random\n",
    "random.randint(1,5)"
   ]
  },
  {
   "cell_type": "code",
   "execution_count": 85,
   "metadata": {},
   "outputs": [
    {
     "data": {
      "text/plain": [
       "16"
      ]
     },
     "execution_count": 85,
     "metadata": {},
     "output_type": "execute_result"
    }
   ],
   "source": [
    "def square(number):\n",
    "    squaredNumber = number **2\n",
    "    return squaredNumber\n",
    "square(4)"
   ]
  },
  {
   "cell_type": "code",
   "execution_count": 86,
   "metadata": {},
   "outputs": [
    {
     "data": {
      "text/plain": [
       "25"
      ]
     },
     "execution_count": 86,
     "metadata": {},
     "output_type": "execute_result"
    }
   ],
   "source": [
    "square(5)"
   ]
  },
  {
   "cell_type": "code",
   "execution_count": 87,
   "metadata": {},
   "outputs": [],
   "source": [
    "## factorial \n",
    "def factorial(number):\n",
    "    if number == 0 or number == 1:\n",
    "        return 1\n",
    "    else:\n",
    "        result = 1\n",
    "        for i in range(1, number +1):\n",
    "            result *=i\n",
    "        return result"
   ]
  },
  {
   "cell_type": "code",
   "execution_count": 91,
   "metadata": {},
   "outputs": [
    {
     "data": {
      "text/plain": [
       "1"
      ]
     },
     "execution_count": 91,
     "metadata": {},
     "output_type": "execute_result"
    }
   ],
   "source": [
    "factorial(1)"
   ]
  },
  {
   "cell_type": "code",
   "execution_count": 92,
   "metadata": {},
   "outputs": [],
   "source": [
    "## function to convert pounds to kilogram\n",
    "def convert_to_kg(pounds):\n",
    "    kilograms = pounds / 2.2\n",
    "    return kilograms\n",
    "\n",
    "\n",
    "## function to convert fahrenheit to celsius \n",
    "def convert_to_celcius(degrees_fahrenheit):\n",
    "    degree_celcius = (degrees_fahrenheit -32) * (5/ 9)\n",
    "    return degree_celcius"
   ]
  },
  {
   "cell_type": "code",
   "execution_count": 93,
   "metadata": {},
   "outputs": [
    {
     "data": {
      "text/plain": [
       "22.727272727272727"
      ]
     },
     "execution_count": 93,
     "metadata": {},
     "output_type": "execute_result"
    }
   ],
   "source": [
    "## test the function\n",
    "convert_to_kg(50)"
   ]
  },
  {
   "cell_type": "code",
   "execution_count": 94,
   "metadata": {},
   "outputs": [
    {
     "data": {
      "text/plain": [
       "37.0"
      ]
     },
     "execution_count": 94,
     "metadata": {},
     "output_type": "execute_result"
    }
   ],
   "source": [
    "convert_to_celcius(98.6)"
   ]
  },
  {
   "cell_type": "code",
   "execution_count": 105,
   "metadata": {},
   "outputs": [
    {
     "data": {
      "text/plain": [
       "'I am great'"
      ]
     },
     "execution_count": 105,
     "metadata": {},
     "output_type": "execute_result"
    }
   ],
   "source": [
    "##gloabal variable\n",
    "var = 'I am great'\n",
    "\n",
    "\n",
    "##define a function to access the global variable\n",
    "def global_var():\n",
    "    accessed_variable = var\n",
    "    return accessed_variable\n",
    "\n",
    "\n",
    "global_var()"
   ]
  },
  {
   "cell_type": "code",
   "execution_count": 96,
   "metadata": {},
   "outputs": [
    {
     "data": {
      "text/plain": [
       "'I am great'"
      ]
     },
     "execution_count": 96,
     "metadata": {},
     "output_type": "execute_result"
    }
   ],
   "source": [
    "var"
   ]
  },
  {
   "cell_type": "code",
   "execution_count": 103,
   "metadata": {},
   "outputs": [
    {
     "name": "stdout",
     "output_type": "stream",
     "text": [
      "I am  happy\n"
     ]
    }
   ],
   "source": [
    "## define a function\n",
    "def my_func():\n",
    "    local_var = \"I am  happy\"\n",
    "    print(local_var)\n",
    "    \n",
    "my_func()\n",
    "\n"
   ]
  },
  {
   "cell_type": "code",
   "execution_count": 104,
   "metadata": {},
   "outputs": [
    {
     "ename": "NameError",
     "evalue": "name 'local_var' is not defined",
     "output_type": "error",
     "traceback": [
      "\u001b[1;31m---------------------------------------------------------------------------\u001b[0m",
      "\u001b[1;31mNameError\u001b[0m                                 Traceback (most recent call last)",
      "Cell \u001b[1;32mIn [104], line 1\u001b[0m\n\u001b[1;32m----> 1\u001b[0m local_var\n",
      "\u001b[1;31mNameError\u001b[0m: name 'local_var' is not defined"
     ]
    }
   ],
   "source": [
    "## gives an error since local variable should not be called outside of the function\n",
    "local_var"
   ]
  },
  {
   "cell_type": "code",
   "execution_count": 107,
   "metadata": {},
   "outputs": [
    {
     "name": "stdout",
     "output_type": "stream",
     "text": [
      "red, tomatoes\n",
      "\n",
      "green , watermelon\n",
      "\n",
      "purple, grape\n"
     ]
    }
   ],
   "source": [
    "## read test from a file\n",
    "with open('test.txt', 'r') as file:\n",
    "    for line in file:\n",
    "        print(line)"
   ]
  },
  {
   "cell_type": "code",
   "execution_count": 108,
   "metadata": {},
   "outputs": [
    {
     "name": "stdout",
     "output_type": "stream",
     "text": [
      "red  tomatoes\n",
      "\n",
      "green  watermelon\n",
      "\n",
      "purple  grape\n"
     ]
    }
   ],
   "source": [
    "## read test from a file\n",
    "with open('test.txt', 'r') as file:\n",
    "    for line in file:\n",
    "        line = line.split(',')\n",
    "        print(line[0].rstrip(), line[1])"
   ]
  },
  {
   "cell_type": "code",
   "execution_count": 110,
   "metadata": {},
   "outputs": [],
   "source": [
    "def save_to_file(first_name, surname, age):\n",
    "    with open('new_data.txt', 'w') as f:\n",
    "        line = ','.join([first_name, surname, age])\n",
    "        f.write(line + '\\n')\n",
    "        f.close()\n",
    "first_name = input('Enter your first name: ')\n",
    "surname = input('Enter your  surname: ')\n",
    "age = input('How old are you?')\n",
    "\n",
    "save_to_file(first_name, surname, age)"
   ]
  },
  {
   "cell_type": "code",
   "execution_count": 112,
   "metadata": {},
   "outputs": [
    {
     "name": "stdout",
     "output_type": "stream",
     "text": [
      "hey  stop\n",
      "you  go\n"
     ]
    }
   ],
   "source": [
    "## csv\n",
    "import csv\n",
    "with open('joke.csv', 'r') as csvfile:\n",
    "    reader = csv.reader(csvfile)\n",
    "    for line in reader:\n",
    "        print(line[0], line[1])"
   ]
  },
  {
   "cell_type": "code",
   "execution_count": 113,
   "metadata": {},
   "outputs": [],
   "source": [
    "## write to a csv file\n",
    "with open('joy.csv', mode='a') as csv_file:\n",
    "    character_writer = csv.writer(csv_file, delimiter=',', quotechar='\"', quoting=csv.QUOTE_MINIMAL)\n",
    "    character_writer.writerow(['Margo', 'Gru'])\n",
    "    character_writer.writerow(['Edith', 'Gru'])\n",
    "    character_writer.writerow(['Agnes', 'Gru'])"
   ]
  },
  {
   "cell_type": "code",
   "execution_count": null,
   "metadata": {},
   "outputs": [],
   "source": [
    "[\"abayomi\"], [\"bello\"] --- abayomi bello"
   ]
  },
  {
   "cell_type": "code",
   "execution_count": 15,
   "metadata": {},
   "outputs": [
    {
     "name": "stdout",
     "output_type": "stream",
     "text": [
      "Attendance has been taken\n"
     ]
    }
   ],
   "source": [
    "import csv\n",
    "\n",
    "# Output file for attendance records\n",
    "output_file = 'attendance_output.csv'\n",
    "\n",
    "def take_attendance(student_list):\n",
    "    # List to store attendance records\n",
    "    attendance = []\n",
    "    \n",
    "    # Iterate through each row in the student list\n",
    "    for names in student_list:\n",
    "        if names:\n",
    "            # Filter out non-string values, empty names, and numbers\n",
    "            valid_names = [name.strip() for name in names if isinstance(name, str) and name.strip() and not name.strip().isdigit()]\n",
    "            \n",
    "            # Check if there are valid names\n",
    "            if valid_names:\n",
    "                # Getting the names based on their position (index)\n",
    "                list_name = valid_names[1].strip()\n",
    "                \n",
    "                # Get attendance input from the user\n",
    "                while True:\n",
    "                    response = input(f\"Is {list_name} present? (Y/N): \").lower()\n",
    "                    if response in ['y', 'n']:\n",
    "                        break\n",
    "                    else:\n",
    "                        print(\"Invalid input. Please enter 'Y' for Yes or 'N' for No.\")\n",
    "                \n",
    "                # Append attendance record to the list\n",
    "                attendance.append([list_name, response])\n",
    "    \n",
    "    return attendance\n",
    "\n",
    "def save_attendance(attendance, output_file):\n",
    "    # Write attendance records to a CSV file\n",
    "    with open(output_file, 'w', newline='') as csv_file:\n",
    "        csv.writer(csv_file).writerows(attendance)\n",
    "\n",
    "# Read student list from CSV file\n",
    "students = [row for row in csv.reader(open('student_list.csv', 'r'))]\n",
    "\n",
    "# Take attendance and save to the output file\n",
    "attendance_mark = take_attendance(students)\n",
    "save_attendance(attendance_mark, output_file)\n",
    "\n",
    "# Display a message indicating that attendance has been taken\n",
    "print('Attendance has been taken')\n"
   ]
  },
  {
   "cell_type": "code",
   "execution_count": 16,
   "metadata": {},
   "outputs": [],
   "source": [
    "import pandas as pd\n"
   ]
  }
 ],
 "metadata": {
  "kernelspec": {
   "display_name": "Python 3",
   "language": "python",
   "name": "python3"
  },
  "language_info": {
   "codemirror_mode": {
    "name": "ipython",
    "version": 3
   },
   "file_extension": ".py",
   "mimetype": "text/x-python",
   "name": "python",
   "nbconvert_exporter": "python",
   "pygments_lexer": "ipython3",
   "version": "3.10.11"
  }
 },
 "nbformat": 4,
 "nbformat_minor": 2
}
