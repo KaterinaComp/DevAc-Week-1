{
 "cells": [
  {
   "cell_type": "code",
   "execution_count": 12,
   "metadata": {},
   "outputs": [],
   "source": [
    "import numpy as np\n"
   ]
  },
  {
   "cell_type": "code",
   "execution_count": 13,
   "metadata": {},
   "outputs": [
    {
     "name": "stdout",
     "output_type": "stream",
     "text": [
      "[1 2 3]\n"
     ]
    }
   ],
   "source": [
    "## 1 dimensional array\n",
    "my1dArray = np.array([1,2,3])\n",
    "print(my1dArray)\n"
   ]
  },
  {
   "cell_type": "code",
   "execution_count": 14,
   "metadata": {},
   "outputs": [
    {
     "name": "stdout",
     "output_type": "stream",
     "text": [
      "[[1 2 3]\n",
      " [4 5 6]]\n"
     ]
    }
   ],
   "source": [
    "## 2 dimensional array\n",
    "my2dArray = np.array([[1,2,3], [4,5,6]])\n",
    "print(my2dArray)\n"
   ]
  },
  {
   "cell_type": "code",
   "execution_count": 15,
   "metadata": {},
   "outputs": [
    {
     "data": {
      "text/plain": [
       "dtype('int32')"
      ]
     },
     "execution_count": 15,
     "metadata": {},
     "output_type": "execute_result"
    }
   ],
   "source": [
    "my1dArray.dtype\n"
   ]
  },
  {
   "cell_type": "code",
   "execution_count": 16,
   "metadata": {},
   "outputs": [
    {
     "data": {
      "text/plain": [
       "dtype('int32')"
      ]
     },
     "execution_count": 16,
     "metadata": {},
     "output_type": "execute_result"
    }
   ],
   "source": [
    "my2dArray.dtype"
   ]
  },
  {
   "cell_type": "code",
   "execution_count": 21,
   "metadata": {},
   "outputs": [
    {
     "name": "stdout",
     "output_type": "stream",
     "text": [
      "[[1. 2. 3.]\n",
      " [4. 5. 6.]]\n"
     ]
    }
   ],
   "source": [
    "## specifying the data type\n",
    "my2dArrayfloat = np.array([[1,2,3], [4,5,6]], dtype='float32')\n",
    "print(my2dArrayfloat)"
   ]
  },
  {
   "cell_type": "code",
   "execution_count": 22,
   "metadata": {},
   "outputs": [
    {
     "data": {
      "text/plain": [
       "dtype('float32')"
      ]
     },
     "execution_count": 22,
     "metadata": {},
     "output_type": "execute_result"
    }
   ],
   "source": [
    "my2dArrayfloat.dtype"
   ]
  },
  {
   "cell_type": "code",
   "execution_count": 23,
   "metadata": {},
   "outputs": [],
   "source": [
    "##combination of integer and a string\n",
    "charArray1 = np.array([(1,'a',3),(4,5,'zzz')])\n",
    "\n"
   ]
  },
  {
   "cell_type": "code",
   "execution_count": 24,
   "metadata": {},
   "outputs": [
    {
     "data": {
      "text/plain": [
       "dtype('<U11')"
      ]
     },
     "execution_count": 24,
     "metadata": {},
     "output_type": "execute_result"
    }
   ],
   "source": [
    "charArray1.dtype"
   ]
  },
  {
   "cell_type": "code",
   "execution_count": 27,
   "metadata": {},
   "outputs": [],
   "source": [
    "##array initialization\n",
    "\n",
    "number_rows = 2\n",
    "number_columns = 3\n",
    "\n",
    "##array of zeros\n",
    "array0s = np.zeros ((number_rows,number_columns), dtype=np.int32)\n",
    "\n"
   ]
  },
  {
   "cell_type": "code",
   "execution_count": 28,
   "metadata": {},
   "outputs": [
    {
     "name": "stdout",
     "output_type": "stream",
     "text": [
      "[[0 0 0]\n",
      " [0 0 0]]\n"
     ]
    }
   ],
   "source": [
    "print(array0s)"
   ]
  },
  {
   "cell_type": "code",
   "execution_count": 29,
   "metadata": {},
   "outputs": [
    {
     "name": "stdout",
     "output_type": "stream",
     "text": [
      "[[1. 1. 1.]\n",
      " [1. 1. 1.]]\n"
     ]
    }
   ],
   "source": [
    "##array of ones\n",
    "array1s = np.ones((number_rows,number_columns))\n",
    "print(array1s)\n"
   ]
  },
  {
   "cell_type": "code",
   "execution_count": 30,
   "metadata": {},
   "outputs": [
    {
     "name": "stdout",
     "output_type": "stream",
     "text": [
      "[[5. 5. 5.]\n",
      " [5. 5. 5.]]\n"
     ]
    }
   ],
   "source": [
    "##array of fives\n",
    "array5s =5* np.ones((number_rows,number_columns))\n",
    "print(array5s)"
   ]
  },
  {
   "cell_type": "code",
   "execution_count": 34,
   "metadata": {},
   "outputs": [
    {
     "name": "stdout",
     "output_type": "stream",
     "text": [
      "[[7 7 7]\n",
      " [7 7 7]]\n"
     ]
    }
   ],
   "source": [
    "##array of sevens\n",
    "array7s = np.full((number_rows,number_columns),7)\n",
    "                \n",
    "print(array7s)"
   ]
  },
  {
   "cell_type": "code",
   "execution_count": 37,
   "metadata": {},
   "outputs": [
    {
     "name": "stdout",
     "output_type": "stream",
     "text": [
      "[10 13 16 19 22 25]\n"
     ]
    }
   ],
   "source": [
    "start =10\n",
    "end = 27\n",
    "step = 3\n",
    "evenlystep = np.arange(start, end, step)\n",
    "print(evenlystep)"
   ]
  },
  {
   "cell_type": "code",
   "execution_count": 38,
   "metadata": {},
   "outputs": [],
   "source": [
    "## generating equally spaced number\n",
    "number_samples =  4\n",
    "evenlysample = np.linspace(start, end, number_samples)"
   ]
  },
  {
   "cell_type": "code",
   "execution_count": 39,
   "metadata": {},
   "outputs": [
    {
     "name": "stdout",
     "output_type": "stream",
     "text": [
      "[10.         15.66666667 21.33333333 27.        ]\n"
     ]
    }
   ],
   "source": [
    "print(evenlysample)"
   ]
  },
  {
   "cell_type": "code",
   "execution_count": 40,
   "metadata": {},
   "outputs": [
    {
     "name": "stdout",
     "output_type": "stream",
     "text": [
      "[[1. 0. 0.]\n",
      " [0. 1. 0.]\n",
      " [0. 0. 1.]]\n"
     ]
    }
   ],
   "source": [
    "## identity matrix between 0 and 1\n",
    "identity = np.eye(3)\n",
    "print(identity)"
   ]
  },
  {
   "cell_type": "code",
   "execution_count": 42,
   "metadata": {},
   "outputs": [
    {
     "name": "stdout",
     "output_type": "stream",
     "text": [
      "[[0.26997489 0.57693736 0.34468014]\n",
      " [0.84677535 0.78449605 0.97859117]]\n"
     ]
    }
   ],
   "source": [
    "## generate floating numbers between 0 and 1 , 1 exclusive\n",
    "random01 =np.random.random((2,3))\n",
    "print(random01)"
   ]
  },
  {
   "cell_type": "code",
   "execution_count": 47,
   "metadata": {},
   "outputs": [
    {
     "name": "stdout",
     "output_type": "stream",
     "text": [
      "[[9 3 3]\n",
      " [5 2 3]]\n"
     ]
    }
   ],
   "source": [
    "## generate random.randint \n",
    "## print integer numbers specified, with last number not included\n",
    "randomintRange = np.random.randint(0,10,(2,3))\n",
    "print(randomintRange)"
   ]
  },
  {
   "cell_type": "code",
   "execution_count": 48,
   "metadata": {},
   "outputs": [
    {
     "name": "stdout",
     "output_type": "stream",
     "text": [
      "[[5 6 3]\n",
      " [2 5 1]]\n",
      "a has dimension:  2\n",
      "a has shape:  (2, 3)\n",
      "a has Size:  6\n",
      "a has data type:  int32\n"
     ]
    }
   ],
   "source": [
    "## indexing inspection and slicing\n",
    "a = np.array([[5,6,3], [2,5,1]])\n",
    "print(a)\n",
    "print('a has dimension: ', a.ndim)\n",
    "print('a has shape: ', a.shape)\n",
    "print('a has Size: ', a.size)\n",
    "print('a has data type: ', a.dtype)\n",
    "\n"
   ]
  },
  {
   "cell_type": "code",
   "execution_count": 49,
   "metadata": {},
   "outputs": [
    {
     "data": {
      "text/plain": [
       "1"
      ]
     },
     "execution_count": 49,
     "metadata": {},
     "output_type": "execute_result"
    }
   ],
   "source": [
    "## indexing\n",
    "a[1,2]\n"
   ]
  },
  {
   "cell_type": "code",
   "execution_count": 50,
   "metadata": {},
   "outputs": [
    {
     "data": {
      "text/plain": [
       "array([6, 5])"
      ]
     },
     "execution_count": 50,
     "metadata": {},
     "output_type": "execute_result"
    }
   ],
   "source": [
    "a[0:2, 1]\n"
   ]
  },
  {
   "cell_type": "code",
   "execution_count": 52,
   "metadata": {},
   "outputs": [
    {
     "data": {
      "text/plain": [
       "array([5, 6])"
      ]
     },
     "execution_count": 52,
     "metadata": {},
     "output_type": "execute_result"
    }
   ],
   "source": [
    "a[0,:2]\n"
   ]
  },
  {
   "cell_type": "code",
   "execution_count": 53,
   "metadata": {},
   "outputs": [
    {
     "data": {
      "text/plain": [
       "array([5, 5])"
      ]
     },
     "execution_count": 53,
     "metadata": {},
     "output_type": "execute_result"
    }
   ],
   "source": [
    "np.diag(a)"
   ]
  },
  {
   "cell_type": "code",
   "execution_count": 55,
   "metadata": {},
   "outputs": [
    {
     "name": "stdout",
     "output_type": "stream",
     "text": [
      "[[5 6 3]\n",
      " [2 5 1]\n",
      " [4 4 4]]\n"
     ]
    }
   ],
   "source": [
    "b = np.array([[5,6,3], [2,5,1],[4,4,4]])\n",
    "print(b)"
   ]
  },
  {
   "cell_type": "code",
   "execution_count": 56,
   "metadata": {},
   "outputs": [
    {
     "data": {
      "text/plain": [
       "array([5, 5, 4])"
      ]
     },
     "execution_count": 56,
     "metadata": {},
     "output_type": "execute_result"
    }
   ],
   "source": [
    "## the diagonal\n",
    "np.diag(b)"
   ]
  },
  {
   "cell_type": "code",
   "execution_count": null,
   "metadata": {},
   "outputs": [],
   "source": [
    "## the diagonal flip\n",
    "\n"
   ]
  },
  {
   "cell_type": "code",
   "execution_count": 58,
   "metadata": {},
   "outputs": [
    {
     "name": "stdout",
     "output_type": "stream",
     "text": [
      "[0 2 4 5 3 7 8 9 5 1]\n"
     ]
    }
   ],
   "source": [
    "##Task 1\n",
    "## taks odd numbers and replace with negative value\n",
    "\n",
    "number_array = np.array([0,2,4,5,3,7,8,9,5,1])\n",
    "print(number_array)"
   ]
  },
  {
   "cell_type": "code",
   "execution_count": 59,
   "metadata": {},
   "outputs": [],
   "source": [
    "## write a function to calculate odd numbers\n",
    "\n",
    "odd_number = np.where(number_array % 2 == 1)\n"
   ]
  },
  {
   "cell_type": "code",
   "execution_count": 60,
   "metadata": {},
   "outputs": [
    {
     "name": "stdout",
     "output_type": "stream",
     "text": [
      "[ 0  2  4 -5 -3 -7  8 -9 -5 -1]\n"
     ]
    }
   ],
   "source": [
    "## replace odd number with negative values \n",
    "number_array[odd_number] *= -1\n",
    "print(number_array)"
   ]
  },
  {
   "cell_type": "code",
   "execution_count": 63,
   "metadata": {},
   "outputs": [
    {
     "name": "stdout",
     "output_type": "stream",
     "text": [
      "[[ 5  8 12]\n",
      " [ 9  6  4]]\n",
      "[[ 5  8 12]\n",
      " [ 9  6  4]]\n"
     ]
    }
   ],
   "source": [
    "## addition\n",
    "a1 = np.array([[1,2,3],[7,1,3]])\n",
    "a2 = np.array([[4,6,9], [2,5,1]])\n",
    "add1 = a1 + a2\n",
    "add2 = np.add(a1,a2)\n",
    "print(add1)\n",
    "print(add2)"
   ]
  },
  {
   "cell_type": "code",
   "execution_count": 67,
   "metadata": {},
   "outputs": [
    {
     "name": "stdout",
     "output_type": "stream",
     "text": [
      "[[-3 -4 -6]\n",
      " [ 5 -4  2]]\n",
      "[[-3 -4 -6]\n",
      " [ 5 -4  2]]\n"
     ]
    }
   ],
   "source": [
    "## substract\n",
    "sub1 = a1 - a2\n",
    "sub2 = np.subtract(a1,a2)\n",
    "print(sub1)\n",
    "print(sub2)"
   ]
  },
  {
   "cell_type": "code",
   "execution_count": 68,
   "metadata": {},
   "outputs": [
    {
     "name": "stdout",
     "output_type": "stream",
     "text": [
      "[[ 4 12 27]\n",
      " [14  5  3]]\n",
      "[[ 4 12 27]\n",
      " [14  5  3]]\n"
     ]
    }
   ],
   "source": [
    "## multiply\n",
    "mul1 = a1 * a2\n",
    "mul2 = np.multiply(a1,a2)\n",
    "print(mul1)\n",
    "print(mul2)\n"
   ]
  },
  {
   "cell_type": "code",
   "execution_count": 71,
   "metadata": {},
   "outputs": [
    {
     "name": "stdout",
     "output_type": "stream",
     "text": [
      "[[0.25       0.33333333 0.33333333]\n",
      " [3.5        0.2        3.        ]]\n",
      "[[0.25       0.33333333 0.33333333]\n",
      " [3.5        0.2        3.        ]]\n"
     ]
    }
   ],
   "source": [
    "## divide\n",
    "\n",
    "div1 = a1 / a2\n",
    "div2 = np.divide(a1,a2)\n",
    "print(div1)\n",
    "print(div2)\n",
    "\n"
   ]
  },
  {
   "cell_type": "code",
   "execution_count": 74,
   "metadata": {},
   "outputs": [
    {
     "name": "stdout",
     "output_type": "stream",
     "text": [
      "[[35 19]\n",
      " [57 50]]\n"
     ]
    }
   ],
   "source": [
    "a3 = np.array([[4,6], [2,5],[9,1]])\n",
    "dotp = a1.dot(a3)\n",
    "print(dotp)"
   ]
  },
  {
   "cell_type": "code",
   "execution_count": 75,
   "metadata": {},
   "outputs": [],
   "source": [
    "##other\n",
    "\n",
    "exp = np.exp(a)\n",
    "sqroot = np.sqrt(a)\n",
    "sin = np.sin(a)\n",
    "cos = np.cos(a)\n",
    "log = np.log(a)"
   ]
  },
  {
   "cell_type": "code",
   "execution_count": 76,
   "metadata": {},
   "outputs": [
    {
     "name": "stdout",
     "output_type": "stream",
     "text": [
      "[[148.4131591  403.42879349  20.08553692]\n",
      " [  7.3890561  148.4131591    2.71828183]]\n"
     ]
    }
   ],
   "source": [
    "print(exp)"
   ]
  },
  {
   "cell_type": "code",
   "execution_count": 77,
   "metadata": {},
   "outputs": [
    {
     "name": "stdout",
     "output_type": "stream",
     "text": [
      "[[2.23606798 2.44948974 1.73205081]\n",
      " [1.41421356 2.23606798 1.        ]]\n"
     ]
    }
   ],
   "source": [
    "print(sqroot)"
   ]
  },
  {
   "cell_type": "code",
   "execution_count": 78,
   "metadata": {},
   "outputs": [
    {
     "name": "stdout",
     "output_type": "stream",
     "text": [
      "[[-0.95892427 -0.2794155   0.14112001]\n",
      " [ 0.90929743 -0.95892427  0.84147098]]\n"
     ]
    }
   ],
   "source": [
    "print(sin)"
   ]
  },
  {
   "cell_type": "code",
   "execution_count": 79,
   "metadata": {},
   "outputs": [
    {
     "name": "stdout",
     "output_type": "stream",
     "text": [
      "[ 8 11]\n"
     ]
    }
   ],
   "source": [
    "a5 = np.array([[1,2,5],[7,1,3]])\n",
    "##  sum by column\n",
    "sum1 = a5.sum(axis=1)\n",
    "sum2 = np.sum(a5, axis=1)\n",
    "print(sum1)\n",
    "\n"
   ]
  },
  {
   "cell_type": "code",
   "execution_count": 80,
   "metadata": {},
   "outputs": [
    {
     "name": "stdout",
     "output_type": "stream",
     "text": [
      "[8 3 8]\n"
     ]
    }
   ],
   "source": [
    "a5 = np.array([[1,2,5],[7,1,3]])\n",
    "##  summation by row\n",
    "sum1row = a5.sum(axis=0)\n",
    "sum2row = np.sum(a5, axis=0)\n",
    "print(sum1row)"
   ]
  },
  {
   "cell_type": "code",
   "execution_count": 81,
   "metadata": {},
   "outputs": [
    {
     "name": "stdout",
     "output_type": "stream",
     "text": [
      "7\n",
      "[5 7]\n"
     ]
    }
   ],
   "source": [
    "## max\n",
    "\n",
    "maxi = a5.max()\n",
    "maxi2 = a5.max(axis=1)\n",
    "\n",
    "print(maxi)\n",
    "print(maxi2)"
   ]
  },
  {
   "cell_type": "code",
   "execution_count": 82,
   "metadata": {},
   "outputs": [
    {
     "name": "stdout",
     "output_type": "stream",
     "text": [
      "2.1921577396609844\n"
     ]
    }
   ],
   "source": [
    "## standard deviation\n",
    "\n",
    "stan_dev = np.std(a5)\n",
    "print(stan_dev)"
   ]
  },
  {
   "cell_type": "code",
   "execution_count": 85,
   "metadata": {},
   "outputs": [
    {
     "name": "stdout",
     "output_type": "stream",
     "text": [
      "[4.  1.5 4. ]\n",
      "3.1666666666666665\n"
     ]
    }
   ],
   "source": [
    "## average\n",
    "avg = np.mean(a5, axis=0)\n",
    "avg2 = np.mean(a5)\n",
    "print(avg)\n",
    "print(avg2)"
   ]
  },
  {
   "cell_type": "code",
   "execution_count": 100,
   "metadata": {},
   "outputs": [],
   "source": [
    "## Task 2 Triangle\n",
    "\n",
    "A =np.array([0,0])\n",
    "B = np.array([0,3])\n",
    "C = np.array ([1,5,0])\n"
   ]
  },
  {
   "cell_type": "code",
   "execution_count": 157,
   "metadata": {},
   "outputs": [
    {
     "ename": "SyntaxError",
     "evalue": "invalid syntax (2408969025.py, line 1)",
     "output_type": "error",
     "traceback": [
      "\u001b[1;36m  Cell \u001b[1;32mIn[157], line 1\u001b[1;36m\u001b[0m\n\u001b[1;33m    from numpy import linalg as\u001b[0m\n\u001b[1;37m                                ^\u001b[0m\n\u001b[1;31mSyntaxError\u001b[0m\u001b[1;31m:\u001b[0m invalid syntax\n"
     ]
    }
   ],
   "source": [
    "from numpy import linalg as la"
   ]
  },
  {
   "cell_type": "code",
   "execution_count": 156,
   "metadata": {},
   "outputs": [
    {
     "ename": "ValueError",
     "evalue": "operands could not be broadcast together with shapes (2,) (3,) ",
     "output_type": "error",
     "traceback": [
      "\u001b[1;31m---------------------------------------------------------------------------\u001b[0m",
      "\u001b[1;31mValueError\u001b[0m                                Traceback (most recent call last)",
      "Cell \u001b[1;32mIn[156], line 2\u001b[0m\n\u001b[0;32m      1\u001b[0m AB \u001b[38;5;241m=\u001b[39m la\u001b[38;5;241m.\u001b[39mnorm(A\u001b[38;5;241m-\u001b[39mB)\n\u001b[1;32m----> 2\u001b[0m AC \u001b[38;5;241m=\u001b[39m la\u001b[38;5;241m.\u001b[39mnorm(\u001b[43mA\u001b[49m\u001b[38;5;241;43m-\u001b[39;49m\u001b[43mC\u001b[49m)\n\u001b[0;32m      3\u001b[0m BC \u001b[38;5;241m=\u001b[39m la\u001b[38;5;241m.\u001b[39mnorm(B \u001b[38;5;241m-\u001b[39mC)\n",
      "\u001b[1;31mValueError\u001b[0m: operands could not be broadcast together with shapes (2,) (3,) "
     ]
    }
   ],
   "source": [
    "AB = la.norm(A-B)\n",
    "AC = la.norm(A-C)\n",
    "BC = la.norm(B -C)"
   ]
  },
  {
   "cell_type": "code",
   "execution_count": 154,
   "metadata": {},
   "outputs": [
    {
     "ename": "ValueError",
     "evalue": "operands could not be broadcast together with shapes (2,) (3,) ",
     "output_type": "error",
     "traceback": [
      "\u001b[1;31m---------------------------------------------------------------------------\u001b[0m",
      "\u001b[1;31mValueError\u001b[0m                                Traceback (most recent call last)",
      "Cell \u001b[1;32mIn[154], line 2\u001b[0m\n\u001b[0;32m      1\u001b[0m AB \u001b[38;5;241m=\u001b[39m la\u001b[38;5;241m.\u001b[39mnorm(A\u001b[38;5;241m-\u001b[39mB)\n\u001b[1;32m----> 2\u001b[0m AC \u001b[38;5;241m=\u001b[39m la\u001b[38;5;241m.\u001b[39mnorm(\u001b[43mA\u001b[49m\u001b[38;5;241;43m-\u001b[39;49m\u001b[43mC\u001b[49m)\n\u001b[0;32m      3\u001b[0m BC \u001b[38;5;241m=\u001b[39m la\u001b[38;5;241m.\u001b[39mnorm(B\u001b[38;5;241m-\u001b[39mC)\n\u001b[0;32m      5\u001b[0m \u001b[38;5;28mprint\u001b[39m(AB)\n",
      "\u001b[1;31mValueError\u001b[0m: operands could not be broadcast together with shapes (2,) (3,) "
     ]
    }
   ],
   "source": [
    "AB = la.norm(A-B)\n",
    "AC = la.norm(A-C)\n",
    "BC = la.norm(B-C)\n",
    "\n",
    "print(AB)\n",
    "print(AC)\n",
    "print(BC)\n"
   ]
  },
  {
   "cell_type": "code",
   "execution_count": 107,
   "metadata": {},
   "outputs": [],
   "source": [
    "## transpose\n",
    "a7 =np.array([[1,2,5],[7,1,3]])\n",
    "atr1 = np.transpose(a7)\n",
    "atr2 = a7.T\n"
   ]
  },
  {
   "cell_type": "code",
   "execution_count": 108,
   "metadata": {},
   "outputs": [
    {
     "name": "stdout",
     "output_type": "stream",
     "text": [
      "[[1 2 5]\n",
      " [7 1 3]]\n"
     ]
    }
   ],
   "source": [
    "print(a7)\n"
   ]
  },
  {
   "cell_type": "code",
   "execution_count": 109,
   "metadata": {},
   "outputs": [
    {
     "name": "stdout",
     "output_type": "stream",
     "text": [
      "[[1 7]\n",
      " [2 1]\n",
      " [5 3]]\n"
     ]
    }
   ],
   "source": [
    "print(atr2)"
   ]
  },
  {
   "cell_type": "code",
   "execution_count": 110,
   "metadata": {},
   "outputs": [
    {
     "name": "stdout",
     "output_type": "stream",
     "text": [
      "[[1 2]\n",
      " [5 7]\n",
      " [1 3]]\n"
     ]
    }
   ],
   "source": [
    "## reshape\n",
    "\n",
    "reshape1 = np.reshape(a7, (3,2))\n",
    "print(reshape1)"
   ]
  },
  {
   "cell_type": "code",
   "execution_count": 113,
   "metadata": {},
   "outputs": [],
   "source": [
    "a8 = np.array([[1,2,5],[7,1,3]])\n",
    "a9 = np.array([[7,8],[4,1]])\n",
    "a10 = np.array([[9],[9]])\n"
   ]
  },
  {
   "cell_type": "code",
   "execution_count": 116,
   "metadata": {},
   "outputs": [
    {
     "name": "stdout",
     "output_type": "stream",
     "text": [
      "[[1 2 5 7 8 9]\n",
      " [7 1 3 4 1 9]]\n"
     ]
    }
   ],
   "source": [
    "abc = np.hstack([a8,a9,a10])\n",
    "print(abc)"
   ]
  },
  {
   "cell_type": "code",
   "execution_count": 118,
   "metadata": {},
   "outputs": [],
   "source": [
    "array1 = np.array([[1,2,3],[4,5,6]])\n",
    "array2 = np.array([[7,8,9],[10,11,12]])\n",
    "array3 = np.array([[13,14,15],[16,17,18]])"
   ]
  },
  {
   "cell_type": "code",
   "execution_count": 119,
   "metadata": {},
   "outputs": [
    {
     "name": "stdout",
     "output_type": "stream",
     "text": [
      "[[ 1  2  3]\n",
      " [ 4  5  6]\n",
      " [ 7  8  9]\n",
      " [10 11 12]\n",
      " [13 14 15]\n",
      " [16 17 18]]\n"
     ]
    }
   ],
   "source": [
    "## stacking vertically\n",
    "\n",
    "bac = np.vstack([array1,array2,array3])\n",
    "print(bac)"
   ]
  },
  {
   "cell_type": "code",
   "execution_count": 120,
   "metadata": {},
   "outputs": [
    {
     "name": "stdout",
     "output_type": "stream",
     "text": [
      "[[ 1  2  3  7  8  9 13 14 15]\n",
      " [ 4  5  6 10 11 12 16 17 18]]\n"
     ]
    }
   ],
   "source": [
    "## concatenate\n",
    "\n",
    "ab = np.concatenate((array1,array2,array3), axis = 1)\n",
    "print(ab)"
   ]
  },
  {
   "cell_type": "code",
   "execution_count": 121,
   "metadata": {},
   "outputs": [
    {
     "name": "stdout",
     "output_type": "stream",
     "text": [
      "[[ 1  2  3]\n",
      " [ 4  5  6]\n",
      " [ 7  8  9]\n",
      " [10 11 12]\n",
      " [13 14 15]\n",
      " [16 17 18]]\n"
     ]
    }
   ],
   "source": [
    "ba = np.concatenate((array1,array2,array3), axis=0)\n",
    "print(ba)"
   ]
  },
  {
   "cell_type": "code",
   "execution_count": 125,
   "metadata": {},
   "outputs": [],
   "source": [
    "# save a single array to a file\n",
    "np.save('array_a ', array1)\n"
   ]
  },
  {
   "cell_type": "code",
   "execution_count": 126,
   "metadata": {},
   "outputs": [],
   "source": [
    "np.savez('arrays_ab', arr1 = array1, arr2 = array2)"
   ]
  },
  {
   "cell_type": "code",
   "execution_count": 127,
   "metadata": {},
   "outputs": [],
   "source": [
    "np.savetxt('array_a.txt', array1)"
   ]
  },
  {
   "cell_type": "code",
   "execution_count": 128,
   "metadata": {},
   "outputs": [],
   "source": [
    "# delimiter\n",
    "\n",
    "np.savetxt('array_a4.txt', array1, )\n"
   ]
  },
  {
   "cell_type": "code",
   "execution_count": 132,
   "metadata": {},
   "outputs": [],
   "source": [
    "## delimiter\n",
    "##%d = integer format\n",
    "##%f === float number\n",
    "##%s == string number\n",
    "## %.2f --- float number to the nearest 2 decimal place\n",
    "np.savetxt ('arrary_a4.txt', array1, delimiter=',', fmt='%.2f')"
   ]
  },
  {
   "cell_type": "code",
   "execution_count": 131,
   "metadata": {},
   "outputs": [],
   "source": [
    "## save to csv file\n",
    "np.savetxt('array.csv', array2, delimiter=',', fmt='%d')"
   ]
  },
  {
   "cell_type": "code",
   "execution_count": 138,
   "metadata": {},
   "outputs": [
    {
     "name": "stdout",
     "output_type": "stream",
     "text": [
      "[[1 2 3]\n",
      " [4 5 6]]\n"
     ]
    }
   ],
   "source": [
    "# load from npy file\n",
    "\n",
    "le = np.load('array_a .npy')\n",
    "print(le)"
   ]
  },
  {
   "cell_type": "code",
   "execution_count": 139,
   "metadata": {},
   "outputs": [
    {
     "name": "stdout",
     "output_type": "stream",
     "text": [
      "[[1. 2. 3.]\n",
      " [4. 5. 6.]]\n"
     ]
    }
   ],
   "source": [
    "# load the text file\n",
    "\n",
    "read_text = np.loadtxt('arrary_a4.txt', delimiter=',')\n",
    "print(read_text)"
   ]
  },
  {
   "cell_type": "code",
   "execution_count": 142,
   "metadata": {},
   "outputs": [
    {
     "name": "stdout",
     "output_type": "stream",
     "text": [
      "[[1.99 2.23]\n",
      " [5.3  7.75]\n",
      " [1.89 3.01]]\n"
     ]
    }
   ],
   "source": [
    "## export to .csv file\n",
    "\n",
    "float_a = np.array([[1.99, 2.23],[5.30,7.75],[1.89,3.01]])\n",
    "print(float_a)\n"
   ]
  },
  {
   "cell_type": "code",
   "execution_count": 149,
   "metadata": {},
   "outputs": [
    {
     "name": "stdout",
     "output_type": "stream",
     "text": [
      "[[2. 2.]\n",
      " [5. 8.]\n",
      " [2. 3.]]\n"
     ]
    }
   ],
   "source": [
    "## task done by me\n",
    "import numpy as np\n",
    "\n",
    "float_a = np.array([[1.99, 2.23], [5.30, 7.75], [1.89, 3.01]])\n",
    " ## round numbers \n",
    "rounded_array = np.round(float_a)\n",
    "\n",
    "print(rounded_array)"
   ]
  },
  {
   "cell_type": "code",
   "execution_count": 152,
   "metadata": {},
   "outputs": [
    {
     "name": "stdout",
     "output_type": "stream",
     "text": [
      "[[2. 2.]\n",
      " [5. 8.]\n",
      " [2. 3.]]\n"
     ]
    },
    {
     "ename": "ValueError",
     "evalue": "all the input array dimensions except for the concatenation axis must match exactly, but along dimension 1, the array at index 0 has size 3 and the array at index 1 has size 2",
     "output_type": "error",
     "traceback": [
      "\u001b[1;31m---------------------------------------------------------------------------\u001b[0m",
      "\u001b[1;31mValueError\u001b[0m                                Traceback (most recent call last)",
      "Cell \u001b[1;32mIn[152], line 19\u001b[0m\n\u001b[0;32m     16\u001b[0m row_header \u001b[38;5;241m=\u001b[39m [\u001b[38;5;124m'\u001b[39m\u001b[38;5;124m-----\u001b[39m\u001b[38;5;124m'\u001b[39m], [\u001b[38;5;124m'\u001b[39m\u001b[38;5;124mrow1\u001b[39m\u001b[38;5;124m'\u001b[39m],[\u001b[38;5;124m'\u001b[39m\u001b[38;5;124mrow2\u001b[39m\u001b[38;5;124m'\u001b[39m], [\u001b[38;5;124m'\u001b[39m\u001b[38;5;124mrow3\u001b[39m\u001b[38;5;124m'\u001b[39m]\n\u001b[0;32m     18\u001b[0m \u001b[38;5;66;03m## stacking rows and column header to the array\u001b[39;00m\n\u001b[1;32m---> 19\u001b[0m array_with_header \u001b[38;5;241m=\u001b[39m \u001b[43mnp\u001b[49m\u001b[38;5;241;43m.\u001b[39;49m\u001b[43mvstack\u001b[49m\u001b[43m(\u001b[49m\u001b[43m[\u001b[49m\u001b[43mcolumn_header\u001b[49m\u001b[43m,\u001b[49m\u001b[43mrounded_array\u001b[49m\u001b[43m]\u001b[49m\u001b[43m)\u001b[49m\n\u001b[0;32m     21\u001b[0m final_array \u001b[38;5;241m=\u001b[39m np\u001b[38;5;241m.\u001b[39mhstack([row_header, array_with_header])\n\u001b[0;32m     24\u001b[0m \u001b[38;5;66;03m## save the array to csv file\u001b[39;00m\n",
      "File \u001b[1;32mc:\\Users\\kater\\AppData\\Local\\Programs\\Python\\Python311\\Lib\\site-packages\\numpy\\core\\shape_base.py:289\u001b[0m, in \u001b[0;36mvstack\u001b[1;34m(tup, dtype, casting)\u001b[0m\n\u001b[0;32m    287\u001b[0m \u001b[38;5;28;01mif\u001b[39;00m \u001b[38;5;129;01mnot\u001b[39;00m \u001b[38;5;28misinstance\u001b[39m(arrs, \u001b[38;5;28mlist\u001b[39m):\n\u001b[0;32m    288\u001b[0m     arrs \u001b[38;5;241m=\u001b[39m [arrs]\n\u001b[1;32m--> 289\u001b[0m \u001b[38;5;28;01mreturn\u001b[39;00m \u001b[43m_nx\u001b[49m\u001b[38;5;241;43m.\u001b[39;49m\u001b[43mconcatenate\u001b[49m\u001b[43m(\u001b[49m\u001b[43marrs\u001b[49m\u001b[43m,\u001b[49m\u001b[43m \u001b[49m\u001b[38;5;241;43m0\u001b[39;49m\u001b[43m,\u001b[49m\u001b[43m \u001b[49m\u001b[43mdtype\u001b[49m\u001b[38;5;241;43m=\u001b[39;49m\u001b[43mdtype\u001b[49m\u001b[43m,\u001b[49m\u001b[43m \u001b[49m\u001b[43mcasting\u001b[49m\u001b[38;5;241;43m=\u001b[39;49m\u001b[43mcasting\u001b[49m\u001b[43m)\u001b[49m\n",
      "\u001b[1;31mValueError\u001b[0m: all the input array dimensions except for the concatenation axis must match exactly, but along dimension 1, the array at index 0 has size 3 and the array at index 1 has size 2"
     ]
    }
   ],
   "source": [
    "## task with Abayomi\n",
    "\n",
    "# create an array\n",
    "float_a = np.array([[1.99, 2.23], [5.30, 7.75], [1.89, 3.01]])\n",
    "\n",
    "# round number \n",
    "\n",
    "rounded_array =np.round(rounded_array, decimals=1)\n",
    "print(rounded_array)\n",
    "\n",
    "## add column header\n",
    "\n",
    "column_header = ['col1','col2','col3']\n",
    "## add row header\n",
    "\n",
    "row_header = ['-----'], ['row1'],['row2'], ['row3']\n",
    "\n",
    "## stacking rows and column header to the array\n",
    "array_with_header = np.vstack([column_header,rounded_array])\n",
    "\n",
    "final_array = np.hstack([row_header, array_with_header])\n",
    "\n",
    "\n",
    "## save the array to csv file\n",
    "np.savetxt('myfile.csv', final_array, delimiter=',', fmt='%s')\n"
   ]
  }
 ],
 "metadata": {
  "kernelspec": {
   "display_name": "Python 3",
   "language": "python",
   "name": "python3"
  },
  "language_info": {
   "codemirror_mode": {
    "name": "ipython",
    "version": 3
   },
   "file_extension": ".py",
   "mimetype": "text/x-python",
   "name": "python",
   "nbconvert_exporter": "python",
   "pygments_lexer": "ipython3",
   "version": "3.11.5"
  }
 },
 "nbformat": 4,
 "nbformat_minor": 2
}
