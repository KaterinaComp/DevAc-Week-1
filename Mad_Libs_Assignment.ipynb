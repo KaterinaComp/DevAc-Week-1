{
 "cells": [
  {
   "cell_type": "code",
   "execution_count": 1,
   "metadata": {},
   "outputs": [
    {
     "name": "stdout",
     "output_type": "stream",
     "text": [
      "\n",
      "Once upon a time in a magical land, there was a unicorn named DEVIL.With its AMAZING horn, it had the power to RUN anything it desired.\n",
      "One day, the unicorn discovered a hidden portal that led to TREE.\n",
      "In this SCARY realm, the unicorn encountered a mystical HOUSE.\n",
      "Swiftly and SUDDENLY, the unicorn used its powers to LEARN the WHITE LAND.\n",
      "News of the unicorn's SLOW deeds spread, and soon it was called to LEANR in the legendary land of HOTEL.\n"
     ]
    }
   ],
   "source": [
    "# Mad Libs Story: Unicorn Saving the World\n",
    "\n",
    "# User inputs\n",
    "unicorn_name = input(\"Enter a name for your unicorn: \")\n",
    "adjective1 = input(\"Enter an adjective: \")\n",
    "verb1 = input(\"Enter a verb: \")\n",
    "place1 = input(\"Enter a place: \")\n",
    "adjective2 = input(\"Enter another adjective: \")\n",
    "noun1 = input(\"Enter a singular noun: \")\n",
    "adverb1 = input(\"Enter an adverb: \")\n",
    "verb2 = input(\"Enter another verb: \")\n",
    "color1 = input(\"Enter a color: \")\n",
    "noun2 = input(\"Enter another singular noun: \")\n",
    "adjective3 = input(\"Enter yet another adjective: \")\n",
    "verb3 = input(\"Enter a third verb: \")\n",
    "place2 = input(\"Enter another place: \")\n",
    "\n",
    "\n",
    "# Story\n",
    "story = \"\\nOnce upon a time in a magical land, there was a unicorn named \" + unicorn_name + \".\"\n",
    "\n",
    "#Creating story using variable and concatenation\n",
    "\n",
    "story += \"With its \" + adjective1 + \" horn, it had the power to \" + verb1 + \" anything it desired.\\n\"  \"One day, the unicorn discovered a hidden portal that led to \" + place1 + \".\\n\" \"In this \" + adjective2 + \" realm, the unicorn encountered a mystical \" + noun1 + \".\\n\"  \"Swiftly and \" + adverb1 + \", the unicorn used its powers to \" + verb2 + \" the \" + color1 + \" \" + noun2 + \".\\n\" \"News of the unicorn's \" + adjective3 + \" deeds spread, and soon it was called to \" + verb3 + \" in the legendary land of \" + place2 + \".\"\n",
    "\n",
    "# Print the Mad Libs story\n",
    "\n",
    "print(story)"
   ]
  }
 ],
 "metadata": {
  "kernelspec": {
   "display_name": "Python 3",
   "language": "python",
   "name": "python3"
  },
  "language_info": {
   "codemirror_mode": {
    "name": "ipython",
    "version": 3
   },
   "file_extension": ".py",
   "mimetype": "text/x-python",
   "name": "python",
   "nbconvert_exporter": "python",
   "pygments_lexer": "ipython3",
   "version": "3.11.5"
  }
 },
 "nbformat": 4,
 "nbformat_minor": 2
}
