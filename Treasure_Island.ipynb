{
 "cells": [
  {
   "cell_type": "code",
   "execution_count": 2,
   "metadata": {},
   "outputs": [
    {
     "name": "stdout",
     "output_type": "stream",
     "text": [
      "Welcome to Treasure Island.\n",
      "Your mission is to find the treasure.\n",
      "There is an island in the middle of the lake.\n",
      "The game is over.\n"
     ]
    }
   ],
   "source": [
    "print(\"Welcome to Treasure Island.\")\n",
    "print(\"Your mission is to find the treasure.\") \n",
    "\n",
    "#Write your code below this line \n",
    "direction = input(\"Where do you want to go? Type Left or Right?\\n\")\n",
    "if direction == \"Left\" or direction == \"left\" :\n",
    "  print(\"There is an island in the middle of the lake.\")\n",
    "  action =input('Type \"Wait\" to wait for a boat or \"Swim\" to swim across.\\n')\n",
    "  if action == \"Wait\" or action == \"wait\" :\n",
    "    print (\"You have arrived at the place with few doors.\")\n",
    "    door = input ('Which door would you choose? Type \"Red\", \"Blue\" or \"Yellow\". \\n')\n",
    "    if door == \"Red\" or door == \"red\":\n",
    "      print(\"Burned by fire. Game over.\")\n",
    "    if door == \"Blue\" or door == \"blue\":\n",
    "      print(\"Eaten by beast. Game over.\")\n",
    "    if door == \"Yellow\" or door == \"yellow\" :\n",
    "      print(\"You win the game!\")\n",
    "    else: \n",
    "      print(\"Game over.\")\n",
    "  else:\n",
    "    print(\"The game is over.\")\n",
    "else:\n",
    " print( \"You fell into a hole. Game over.\")"
   ]
  }
 ],
 "metadata": {
  "kernelspec": {
   "display_name": "Python 3",
   "language": "python",
   "name": "python3"
  },
  "language_info": {
   "codemirror_mode": {
    "name": "ipython",
    "version": 3
   },
   "file_extension": ".py",
   "mimetype": "text/x-python",
   "name": "python",
   "nbconvert_exporter": "python",
   "pygments_lexer": "ipython3",
   "version": "3.11.5"
  }
 },
 "nbformat": 4,
 "nbformat_minor": 2
}
